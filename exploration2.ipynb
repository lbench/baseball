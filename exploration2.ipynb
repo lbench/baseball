{
 "cells": [
  {
   "cell_type": "code",
   "execution_count": 2,
   "id": "initial_id",
   "metadata": {
    "collapsed": true,
    "ExecuteTime": {
     "end_time": "2024-04-28T08:05:06.466695Z",
     "start_time": "2024-04-28T08:04:47.290765Z"
    }
   },
   "outputs": [],
   "source": [
    "import os\n",
    "import pandas as pd\n",
    "\n",
    "file = \"statcast_data.csv\"\n",
    "\n",
    "df = pd.read_csv(file)"
   ]
  },
  {
   "cell_type": "code",
   "outputs": [
    {
     "name": "stdout",
     "output_type": "stream",
     "text": [
      "player_name    \n",
      "Guerra, Javy       2\n",
      "Allen, Logan       2\n",
      "Castillo, Luis     2\n",
      "Webb, Jacob        2\n",
      "Pearson, Nate      1\n",
      "                  ..\n",
      "Grace, Regi        1\n",
      "Grace, Matt        1\n",
      "Gowdy, Kevin       1\n",
      "Goudeau, Ashton    1\n",
      "deGrom, Jacob      1\n",
      "Name: count, Length: 1926, dtype: int64\n"
     ]
    }
   ],
   "source": [
    "df2 = df[['player_name', 'pitcher']].drop_duplicates()\n",
    "print(df2[['player_name']].value_counts())"
   ],
   "metadata": {
    "collapsed": false,
    "ExecuteTime": {
     "end_time": "2024-04-28T08:05:07.021535Z",
     "start_time": "2024-04-28T08:05:06.473665Z"
    }
   },
   "id": "98444651ad8755ec",
   "execution_count": 3
  },
  {
   "cell_type": "code",
   "outputs": [],
   "source": [
    "single = lambda x: True if x in ['Guerra, Javy', 'Allen, Logan', 'Castillo, Luis', 'Webb, Jacob'] else False\n",
    "df.drop(df[df['player_name'].apply(single)].index, inplace=True)"
   ],
   "metadata": {
    "collapsed": false,
    "ExecuteTime": {
     "end_time": "2024-04-28T08:05:08.975681Z",
     "start_time": "2024-04-28T08:05:07.026083Z"
    }
   },
   "id": "db9c01ed17ea4d83",
   "execution_count": 4
  },
  {
   "cell_type": "code",
   "outputs": [
    {
     "name": "stdout",
     "output_type": "stream",
     "text": [
      "Empty DataFrame\n",
      "Columns: [player_name, pitcher, game_date, game_pk, pitch_of_game, at_bat_number, pitch_number, pitch_type, pitch_name, release_speed, release_pos_x, release_pos_z, zone, p_throws, type, pfx_x, pfx_z, plate_x, plate_z, vx0, vy0, vz0, ax, ay, az, sz_top, sz_bot, effective_speed, release_spin_rate, release_extension, release_pos_y, spin_axis]\n",
      "Index: []\n",
      "\n",
      "[0 rows x 32 columns]\n"
     ]
    }
   ],
   "source": [
    "print(df[df['player_name'].str.contains('Feigl')])"
   ],
   "metadata": {
    "collapsed": false,
    "ExecuteTime": {
     "end_time": "2024-04-28T08:05:10.274359Z",
     "start_time": "2024-04-28T08:05:08.982313Z"
    }
   },
   "id": "e179b413da198f7",
   "execution_count": 5
  },
  {
   "cell_type": "code",
   "outputs": [],
   "source": [
    "file2 = 'injury_data.csv'\n",
    "df3 = pd.read_csv(file2)"
   ],
   "metadata": {
    "collapsed": false,
    "ExecuteTime": {
     "end_time": "2024-04-28T08:05:10.322814Z",
     "start_time": "2024-04-28T08:05:10.276319Z"
    }
   },
   "id": "a6d52f50eb0c124c",
   "execution_count": 6
  },
  {
   "cell_type": "code",
   "outputs": [
    {
     "data": {
      "text/plain": "        player_name injury_type Team Pos Injury / Surgery Date  \\\n70      Webb, Jacob    shoulder  ATL  RP               Jul '20   \n182    Guerra, Javy       elbow  SDP  RP              03/01/21   \n544  Castillo, Luis    shoulder  CIN  SP               Mar '22   \n\n      Injury / Surgery         Status IL Retro Date Eligible to Return  \\\n70   Strained shoulder  Active roster      07/20/20           09/03/20   \n182     Sprained elbow      Activated      03/29/21           05/28/21   \n544  Shoulder soreness      Activated      04/04/22           04/14/22   \n\n    Return Date Latest Update  \n70     09/08/20     Activated  \n182    09/21/21     Activated  \n544    05/09/22     Activated  ",
      "text/html": "<div>\n<style scoped>\n    .dataframe tbody tr th:only-of-type {\n        vertical-align: middle;\n    }\n\n    .dataframe tbody tr th {\n        vertical-align: top;\n    }\n\n    .dataframe thead th {\n        text-align: right;\n    }\n</style>\n<table border=\"1\" class=\"dataframe\">\n  <thead>\n    <tr style=\"text-align: right;\">\n      <th></th>\n      <th>player_name</th>\n      <th>injury_type</th>\n      <th>Team</th>\n      <th>Pos</th>\n      <th>Injury / Surgery Date</th>\n      <th>Injury / Surgery</th>\n      <th>Status</th>\n      <th>IL Retro Date</th>\n      <th>Eligible to Return</th>\n      <th>Return Date</th>\n      <th>Latest Update</th>\n    </tr>\n  </thead>\n  <tbody>\n    <tr>\n      <th>70</th>\n      <td>Webb, Jacob</td>\n      <td>shoulder</td>\n      <td>ATL</td>\n      <td>RP</td>\n      <td>Jul '20</td>\n      <td>Strained shoulder</td>\n      <td>Active roster</td>\n      <td>07/20/20</td>\n      <td>09/03/20</td>\n      <td>09/08/20</td>\n      <td>Activated</td>\n    </tr>\n    <tr>\n      <th>182</th>\n      <td>Guerra, Javy</td>\n      <td>elbow</td>\n      <td>SDP</td>\n      <td>RP</td>\n      <td>03/01/21</td>\n      <td>Sprained elbow</td>\n      <td>Activated</td>\n      <td>03/29/21</td>\n      <td>05/28/21</td>\n      <td>09/21/21</td>\n      <td>Activated</td>\n    </tr>\n    <tr>\n      <th>544</th>\n      <td>Castillo, Luis</td>\n      <td>shoulder</td>\n      <td>CIN</td>\n      <td>SP</td>\n      <td>Mar '22</td>\n      <td>Shoulder soreness</td>\n      <td>Activated</td>\n      <td>04/04/22</td>\n      <td>04/14/22</td>\n      <td>05/09/22</td>\n      <td>Activated</td>\n    </tr>\n  </tbody>\n</table>\n</div>"
     },
     "execution_count": 7,
     "metadata": {},
     "output_type": "execute_result"
    }
   ],
   "source": [
    "df3[df3['player_name'].isin(['Guerra, Javy', 'Allen, Logan', 'Castillo, Luis', 'Webb, Jacob'])]"
   ],
   "metadata": {
    "collapsed": false,
    "ExecuteTime": {
     "end_time": "2024-04-28T08:05:10.354712Z",
     "start_time": "2024-04-28T08:05:10.325952Z"
    }
   },
   "id": "310c1c80df85938",
   "execution_count": 7
  },
  {
   "cell_type": "code",
   "outputs": [],
   "source": [
    "from datetime import datetime\n",
    "\n",
    "def convert_date_format(date_str):\n",
    "    # Parse the date from the format \"Mar '22\"\n",
    "    dt = datetime.strptime(date_str, \"%b '%y\")\n",
    "    # Format the date to \"2022-03\"\n",
    "    formatted_date = dt.strftime(\"%Y-%m\")\n",
    "    return formatted_date"
   ],
   "metadata": {
    "collapsed": false,
    "ExecuteTime": {
     "end_time": "2024-04-28T08:05:10.364885Z",
     "start_time": "2024-04-28T08:05:10.358926Z"
    }
   },
   "id": "f146c1fe62191090",
   "execution_count": 8
  },
  {
   "cell_type": "code",
   "outputs": [
    {
     "data": {
      "text/plain": "     Injury / Surgery Date IL Retro Date\n0                 07/14/20      07/20/20\n1                 09/23/20      09/22/20\n2                 08/23/20      08/24/20\n3                 09/22/20      09/23/20\n4                 08/21/20      08/22/20\n...                    ...           ...\n1025              03/01/24      03/28/24\n1026              12/06/23      03/28/24\n1027              03/21/24      03/28/24\n1028              05/03/23      03/28/24\n1029              05/17/23      03/28/24\n\n[1030 rows x 2 columns]",
      "text/html": "<div>\n<style scoped>\n    .dataframe tbody tr th:only-of-type {\n        vertical-align: middle;\n    }\n\n    .dataframe tbody tr th {\n        vertical-align: top;\n    }\n\n    .dataframe thead th {\n        text-align: right;\n    }\n</style>\n<table border=\"1\" class=\"dataframe\">\n  <thead>\n    <tr style=\"text-align: right;\">\n      <th></th>\n      <th>Injury / Surgery Date</th>\n      <th>IL Retro Date</th>\n    </tr>\n  </thead>\n  <tbody>\n    <tr>\n      <th>0</th>\n      <td>07/14/20</td>\n      <td>07/20/20</td>\n    </tr>\n    <tr>\n      <th>1</th>\n      <td>09/23/20</td>\n      <td>09/22/20</td>\n    </tr>\n    <tr>\n      <th>2</th>\n      <td>08/23/20</td>\n      <td>08/24/20</td>\n    </tr>\n    <tr>\n      <th>3</th>\n      <td>09/22/20</td>\n      <td>09/23/20</td>\n    </tr>\n    <tr>\n      <th>4</th>\n      <td>08/21/20</td>\n      <td>08/22/20</td>\n    </tr>\n    <tr>\n      <th>...</th>\n      <td>...</td>\n      <td>...</td>\n    </tr>\n    <tr>\n      <th>1025</th>\n      <td>03/01/24</td>\n      <td>03/28/24</td>\n    </tr>\n    <tr>\n      <th>1026</th>\n      <td>12/06/23</td>\n      <td>03/28/24</td>\n    </tr>\n    <tr>\n      <th>1027</th>\n      <td>03/21/24</td>\n      <td>03/28/24</td>\n    </tr>\n    <tr>\n      <th>1028</th>\n      <td>05/03/23</td>\n      <td>03/28/24</td>\n    </tr>\n    <tr>\n      <th>1029</th>\n      <td>05/17/23</td>\n      <td>03/28/24</td>\n    </tr>\n  </tbody>\n</table>\n<p>1030 rows × 2 columns</p>\n</div>"
     },
     "execution_count": 9,
     "metadata": {},
     "output_type": "execute_result"
    }
   ],
   "source": [
    "df3[['Injury / Surgery Date', 'IL Retro Date']]"
   ],
   "metadata": {
    "collapsed": false,
    "ExecuteTime": {
     "end_time": "2024-04-28T08:05:10.389301Z",
     "start_time": "2024-04-28T08:05:10.367302Z"
    }
   },
   "id": "1b00c5129d34f1fa",
   "execution_count": 9
  },
  {
   "cell_type": "code",
   "outputs": [],
   "source": [
    "def not_valid_date(date_str):\n",
    "    try:\n",
    "        # Attempt to parse the date with the format \n",
    "        datetime.strptime(date_str, '%m/%d/%y')\n",
    "        return False  # Date is valid and in the correct format\n",
    "    except ValueError:\n",
    "        return True"
   ],
   "metadata": {
    "collapsed": false,
    "ExecuteTime": {
     "end_time": "2024-04-28T08:05:10.397524Z",
     "start_time": "2024-04-28T08:05:10.391956Z"
    }
   },
   "id": "2b2ce4b1e3384f21",
   "execution_count": 10
  },
  {
   "cell_type": "code",
   "outputs": [],
   "source": [
    "df3.drop(df3[df3['Injury / Surgery Date'].apply(not_valid_date)].index, inplace=True)"
   ],
   "metadata": {
    "collapsed": false,
    "ExecuteTime": {
     "end_time": "2024-04-28T08:05:10.425559Z",
     "start_time": "2024-04-28T08:05:10.406645Z"
    }
   },
   "id": "5cb612c86045099b",
   "execution_count": 11
  },
  {
   "cell_type": "code",
   "outputs": [],
   "source": [
    "single = lambda x: True if x in ['Guerra, Javy', 'Allen, Logan', 'Castillo, Luis', 'Webb, Jacob'] else False"
   ],
   "metadata": {
    "collapsed": false,
    "ExecuteTime": {
     "end_time": "2024-04-28T08:05:10.433412Z",
     "start_time": "2024-04-28T08:05:10.428081Z"
    }
   },
   "id": "b08a75b8e5c9ad5c",
   "execution_count": 12
  },
  {
   "cell_type": "code",
   "outputs": [],
   "source": [
    "df3.drop(df3[df3['player_name'].apply(single)].index, inplace=True)"
   ],
   "metadata": {
    "collapsed": false,
    "ExecuteTime": {
     "end_time": "2024-04-28T08:05:10.446061Z",
     "start_time": "2024-04-28T08:05:10.436542Z"
    }
   },
   "id": "fbe13ec65d79af3e",
   "execution_count": 13
  },
  {
   "cell_type": "code",
   "outputs": [
    {
     "data": {
      "text/plain": "5"
     },
     "execution_count": 14,
     "metadata": {},
     "output_type": "execute_result"
    }
   ],
   "source": [
    "df3['Status'].isna().sum()"
   ],
   "metadata": {
    "collapsed": false,
    "ExecuteTime": {
     "end_time": "2024-04-28T08:05:10.457979Z",
     "start_time": "2024-04-28T08:05:10.449373Z"
    }
   },
   "id": "c4f9946d9a17ac1d",
   "execution_count": 14
  },
  {
   "cell_type": "code",
   "outputs": [],
   "source": [
    "def convert_date_format2(date_str):\n",
    "    # Parse the date from the format \"Mar '22\"\n",
    "    dt = datetime.strptime(date_str, \"%m/%d/%y\")\n",
    "    # Format the date to \"2022-03\"\n",
    "    formatted_date = dt.strftime(\"%Y-%m-%d\")\n",
    "    return formatted_date"
   ],
   "metadata": {
    "collapsed": false,
    "ExecuteTime": {
     "end_time": "2024-04-28T08:05:10.468904Z",
     "start_time": "2024-04-28T08:05:10.460606Z"
    }
   },
   "id": "98d7da6f83368d6d",
   "execution_count": 15
  },
  {
   "cell_type": "code",
   "outputs": [],
   "source": [
    "df3['Injury / Surgery Date'] = df3['Injury / Surgery Date'].map(convert_date_format2)"
   ],
   "metadata": {
    "collapsed": false,
    "ExecuteTime": {
     "end_time": "2024-04-28T08:05:10.500330Z",
     "start_time": "2024-04-28T08:05:10.471932Z"
    }
   },
   "id": "9e2ce837b25c8d7f",
   "execution_count": 16
  },
  {
   "cell_type": "code",
   "outputs": [
    {
     "data": {
      "text/plain": "          player_name injury_type Team Pos Injury / Surgery Date  \\\n0      Harvey, Hunter       elbow  BAL  RP            2020-07-14   \n1      Phillips, Evan       elbow  BAL  RP            2020-09-23   \n2       LeBlanc, Wade       elbow  BAL  SP            2020-08-23   \n3        Zimmer, Kyle       elbow  KCR  RP            2020-09-22   \n4       Littell, Zack       elbow  MIN  RP            2020-08-21   \n...               ...         ...  ...  ..                   ...   \n1025  Thompson, Mason       tommy  WSN  RP            2024-03-01   \n1026    Oviedo, Johan       tommy  PIT  SP            2023-12-06   \n1027    Moreta, Dauri       tommy  PIT  SP            2024-03-21   \n1028      Ray, Robbie       tommy  SFG  SP            2023-05-03   \n1029   Warren, Austin       tommy  SFG  RP            2023-05-17   \n\n           Injury / Surgery         Status IL Retro Date Eligible to Return  \\\n0            Elbow soreness  Active roster      07/20/20           07/30/20   \n1        Elbow inflammation     Outrighted      09/22/20           10/02/20   \n2     Elbow stress reaction      45-Day IL      08/24/20           10/08/20   \n3      Elbow ulnar neuritis      45-Day IL      09/23/20           11/07/20   \n4        Elbow inflammation  Active roster      08/22/20           09/01/20   \n...                     ...            ...           ...                ...   \n1025     Tommy John surgery      60-Day IL      03/28/24           05/27/24   \n1026     Tommy John surgery      60-Day IL      03/28/24           05/27/24   \n1027     Tommy John surgery      60-Day IL      03/28/24           05/27/24   \n1028     Tommy John surgery      60-Day IL      03/28/24           05/27/24   \n1029     Tommy John surgery      60-Day IL      03/28/24           05/27/24   \n\n     Return Date                 Latest Update  \n0       08/30/20                     Activated  \n1       09/30/20                     Activated  \n2       09/28/20           Out for 2020 season  \n3       09/28/20           Out for 2020 season  \n4       09/06/20                     Activated  \n...          ...                           ...  \n1025         NaN           Out for 2024 season  \n1026         NaN           Out for 2024 season  \n1027         NaN           Out for 2024 season  \n1028         NaN  Questionable for 2024 season  \n1029         NaN  Questionable for 2024 season  \n\n[929 rows x 11 columns]",
      "text/html": "<div>\n<style scoped>\n    .dataframe tbody tr th:only-of-type {\n        vertical-align: middle;\n    }\n\n    .dataframe tbody tr th {\n        vertical-align: top;\n    }\n\n    .dataframe thead th {\n        text-align: right;\n    }\n</style>\n<table border=\"1\" class=\"dataframe\">\n  <thead>\n    <tr style=\"text-align: right;\">\n      <th></th>\n      <th>player_name</th>\n      <th>injury_type</th>\n      <th>Team</th>\n      <th>Pos</th>\n      <th>Injury / Surgery Date</th>\n      <th>Injury / Surgery</th>\n      <th>Status</th>\n      <th>IL Retro Date</th>\n      <th>Eligible to Return</th>\n      <th>Return Date</th>\n      <th>Latest Update</th>\n    </tr>\n  </thead>\n  <tbody>\n    <tr>\n      <th>0</th>\n      <td>Harvey, Hunter</td>\n      <td>elbow</td>\n      <td>BAL</td>\n      <td>RP</td>\n      <td>2020-07-14</td>\n      <td>Elbow soreness</td>\n      <td>Active roster</td>\n      <td>07/20/20</td>\n      <td>07/30/20</td>\n      <td>08/30/20</td>\n      <td>Activated</td>\n    </tr>\n    <tr>\n      <th>1</th>\n      <td>Phillips, Evan</td>\n      <td>elbow</td>\n      <td>BAL</td>\n      <td>RP</td>\n      <td>2020-09-23</td>\n      <td>Elbow inflammation</td>\n      <td>Outrighted</td>\n      <td>09/22/20</td>\n      <td>10/02/20</td>\n      <td>09/30/20</td>\n      <td>Activated</td>\n    </tr>\n    <tr>\n      <th>2</th>\n      <td>LeBlanc, Wade</td>\n      <td>elbow</td>\n      <td>BAL</td>\n      <td>SP</td>\n      <td>2020-08-23</td>\n      <td>Elbow stress reaction</td>\n      <td>45-Day IL</td>\n      <td>08/24/20</td>\n      <td>10/08/20</td>\n      <td>09/28/20</td>\n      <td>Out for 2020 season</td>\n    </tr>\n    <tr>\n      <th>3</th>\n      <td>Zimmer, Kyle</td>\n      <td>elbow</td>\n      <td>KCR</td>\n      <td>RP</td>\n      <td>2020-09-22</td>\n      <td>Elbow ulnar neuritis</td>\n      <td>45-Day IL</td>\n      <td>09/23/20</td>\n      <td>11/07/20</td>\n      <td>09/28/20</td>\n      <td>Out for 2020 season</td>\n    </tr>\n    <tr>\n      <th>4</th>\n      <td>Littell, Zack</td>\n      <td>elbow</td>\n      <td>MIN</td>\n      <td>RP</td>\n      <td>2020-08-21</td>\n      <td>Elbow inflammation</td>\n      <td>Active roster</td>\n      <td>08/22/20</td>\n      <td>09/01/20</td>\n      <td>09/06/20</td>\n      <td>Activated</td>\n    </tr>\n    <tr>\n      <th>...</th>\n      <td>...</td>\n      <td>...</td>\n      <td>...</td>\n      <td>...</td>\n      <td>...</td>\n      <td>...</td>\n      <td>...</td>\n      <td>...</td>\n      <td>...</td>\n      <td>...</td>\n      <td>...</td>\n    </tr>\n    <tr>\n      <th>1025</th>\n      <td>Thompson, Mason</td>\n      <td>tommy</td>\n      <td>WSN</td>\n      <td>RP</td>\n      <td>2024-03-01</td>\n      <td>Tommy John surgery</td>\n      <td>60-Day IL</td>\n      <td>03/28/24</td>\n      <td>05/27/24</td>\n      <td>NaN</td>\n      <td>Out for 2024 season</td>\n    </tr>\n    <tr>\n      <th>1026</th>\n      <td>Oviedo, Johan</td>\n      <td>tommy</td>\n      <td>PIT</td>\n      <td>SP</td>\n      <td>2023-12-06</td>\n      <td>Tommy John surgery</td>\n      <td>60-Day IL</td>\n      <td>03/28/24</td>\n      <td>05/27/24</td>\n      <td>NaN</td>\n      <td>Out for 2024 season</td>\n    </tr>\n    <tr>\n      <th>1027</th>\n      <td>Moreta, Dauri</td>\n      <td>tommy</td>\n      <td>PIT</td>\n      <td>SP</td>\n      <td>2024-03-21</td>\n      <td>Tommy John surgery</td>\n      <td>60-Day IL</td>\n      <td>03/28/24</td>\n      <td>05/27/24</td>\n      <td>NaN</td>\n      <td>Out for 2024 season</td>\n    </tr>\n    <tr>\n      <th>1028</th>\n      <td>Ray, Robbie</td>\n      <td>tommy</td>\n      <td>SFG</td>\n      <td>SP</td>\n      <td>2023-05-03</td>\n      <td>Tommy John surgery</td>\n      <td>60-Day IL</td>\n      <td>03/28/24</td>\n      <td>05/27/24</td>\n      <td>NaN</td>\n      <td>Questionable for 2024 season</td>\n    </tr>\n    <tr>\n      <th>1029</th>\n      <td>Warren, Austin</td>\n      <td>tommy</td>\n      <td>SFG</td>\n      <td>RP</td>\n      <td>2023-05-17</td>\n      <td>Tommy John surgery</td>\n      <td>60-Day IL</td>\n      <td>03/28/24</td>\n      <td>05/27/24</td>\n      <td>NaN</td>\n      <td>Questionable for 2024 season</td>\n    </tr>\n  </tbody>\n</table>\n<p>929 rows × 11 columns</p>\n</div>"
     },
     "execution_count": 17,
     "metadata": {},
     "output_type": "execute_result"
    }
   ],
   "source": [
    "df3"
   ],
   "metadata": {
    "collapsed": false,
    "ExecuteTime": {
     "end_time": "2024-04-28T08:05:10.519743Z",
     "start_time": "2024-04-28T08:05:10.502452Z"
    }
   },
   "id": "471b944d0ee453f9",
   "execution_count": 17
  },
  {
   "cell_type": "code",
   "outputs": [],
   "source": [
    "df4 = df3[['player_name', 'Injury / Surgery Date']]"
   ],
   "metadata": {
    "collapsed": false,
    "ExecuteTime": {
     "end_time": "2024-04-28T08:05:10.527684Z",
     "start_time": "2024-04-28T08:05:10.522015Z"
    }
   },
   "id": "2119c1728bbb5f1d",
   "execution_count": 18
  },
  {
   "cell_type": "code",
   "outputs": [
    {
     "data": {
      "text/plain": "           player_name  pitcher   game_date  game_pk  pitch_of_game  \\\n0        Scherzer, Max   453286  2020-07-23   630851              1   \n1        Scherzer, Max   453286  2020-07-23   630851              2   \n2        Scherzer, Max   453286  2020-07-23   630851              3   \n3        Scherzer, Max   453286  2020-07-23   630851              4   \n4        Scherzer, Max   453286  2020-07-23   630851              5   \n...                ...      ...         ...      ...            ...   \n2652974     Fried, Max   608331  2024-04-23   747130            208   \n2652975     Fried, Max   608331  2024-04-23   747130            209   \n2652976     Fried, Max   608331  2024-04-23   747130            210   \n2652977     Fried, Max   608331  2024-04-23   747130            211   \n2652978     Fried, Max   608331  2024-04-23   747130            212   \n\n         at_bat_number  pitch_number pitch_type       pitch_name  \\\n0                    1             1         FF  4-Seam Fastball   \n1                    1             2         FF  4-Seam Fastball   \n2                    1             3         FF  4-Seam Fastball   \n3                    1             4         CU        Curveball   \n4                    1             5         FF  4-Seam Fastball   \n...                ...           ...        ...              ...   \n2652974             65             1         SI           Sinker   \n2652975             65             2         CH         Changeup   \n2652976             66             1         FF  4-Seam Fastball   \n2652977             67             1         SI           Sinker   \n2652978             67             2         SL           Slider   \n\n         release_speed  ...         ax         ay         az sz_top sz_bot  \\\n0                 95.3  ... -12.699151  28.237021 -15.689358   3.85   1.84   \n1                 96.1  ... -11.964765  30.151437 -12.476899   3.58   1.75   \n2                 96.7  ... -12.798480  30.880442 -14.099707   3.33   1.65   \n3                 79.7  ...   7.680712  22.130450 -39.867212   3.51   1.65   \n4                 96.1  ... -12.016982  30.128689 -14.962333   3.41   1.56   \n...                ...  ...        ...        ...        ...    ...    ...   \n2652974           94.4  ...  12.302981  29.214628 -17.010887   3.41   1.61   \n2652975           86.0  ...   9.411616  23.509049 -26.146010   3.41   1.61   \n2652976           94.9  ...  -0.521046  30.131341 -18.139126   3.18   1.51   \n2652977           96.0  ...  16.614980  35.080867 -20.045509   3.53   1.72   \n2652978           84.9  ...  -5.077590  22.314613 -34.879846   3.53   1.72   \n\n         effective_speed  release_spin_rate  release_extension  release_pos_y  \\\n0                   95.7             2484.0                6.3          54.21   \n1                   95.9             2477.0                6.1          54.38   \n2                   96.4             2421.0                6.2          54.29   \n3                   79.6             2846.0                6.2          54.28   \n4                   96.3             2450.0                6.4          54.09   \n...                  ...                ...                ...            ...   \n2652974             95.3             2063.0                6.8          53.74   \n2652975             87.4             1350.0                7.0          53.52   \n2652976             95.6             2176.0                6.6          53.91   \n2652977             96.1             2195.0                6.7          53.83   \n2652978             85.8             2560.0                6.6          53.93   \n\n         spin_axis  \n0            226.0  \n1            226.0  \n2            224.0  \n3             60.0  \n4            227.0  \n...            ...  \n2652974      161.0  \n2652975      144.0  \n2652976      166.0  \n2652977      153.0  \n2652978      293.0  \n\n[2634586 rows x 32 columns]",
      "text/html": "<div>\n<style scoped>\n    .dataframe tbody tr th:only-of-type {\n        vertical-align: middle;\n    }\n\n    .dataframe tbody tr th {\n        vertical-align: top;\n    }\n\n    .dataframe thead th {\n        text-align: right;\n    }\n</style>\n<table border=\"1\" class=\"dataframe\">\n  <thead>\n    <tr style=\"text-align: right;\">\n      <th></th>\n      <th>player_name</th>\n      <th>pitcher</th>\n      <th>game_date</th>\n      <th>game_pk</th>\n      <th>pitch_of_game</th>\n      <th>at_bat_number</th>\n      <th>pitch_number</th>\n      <th>pitch_type</th>\n      <th>pitch_name</th>\n      <th>release_speed</th>\n      <th>...</th>\n      <th>ax</th>\n      <th>ay</th>\n      <th>az</th>\n      <th>sz_top</th>\n      <th>sz_bot</th>\n      <th>effective_speed</th>\n      <th>release_spin_rate</th>\n      <th>release_extension</th>\n      <th>release_pos_y</th>\n      <th>spin_axis</th>\n    </tr>\n  </thead>\n  <tbody>\n    <tr>\n      <th>0</th>\n      <td>Scherzer, Max</td>\n      <td>453286</td>\n      <td>2020-07-23</td>\n      <td>630851</td>\n      <td>1</td>\n      <td>1</td>\n      <td>1</td>\n      <td>FF</td>\n      <td>4-Seam Fastball</td>\n      <td>95.3</td>\n      <td>...</td>\n      <td>-12.699151</td>\n      <td>28.237021</td>\n      <td>-15.689358</td>\n      <td>3.85</td>\n      <td>1.84</td>\n      <td>95.7</td>\n      <td>2484.0</td>\n      <td>6.3</td>\n      <td>54.21</td>\n      <td>226.0</td>\n    </tr>\n    <tr>\n      <th>1</th>\n      <td>Scherzer, Max</td>\n      <td>453286</td>\n      <td>2020-07-23</td>\n      <td>630851</td>\n      <td>2</td>\n      <td>1</td>\n      <td>2</td>\n      <td>FF</td>\n      <td>4-Seam Fastball</td>\n      <td>96.1</td>\n      <td>...</td>\n      <td>-11.964765</td>\n      <td>30.151437</td>\n      <td>-12.476899</td>\n      <td>3.58</td>\n      <td>1.75</td>\n      <td>95.9</td>\n      <td>2477.0</td>\n      <td>6.1</td>\n      <td>54.38</td>\n      <td>226.0</td>\n    </tr>\n    <tr>\n      <th>2</th>\n      <td>Scherzer, Max</td>\n      <td>453286</td>\n      <td>2020-07-23</td>\n      <td>630851</td>\n      <td>3</td>\n      <td>1</td>\n      <td>3</td>\n      <td>FF</td>\n      <td>4-Seam Fastball</td>\n      <td>96.7</td>\n      <td>...</td>\n      <td>-12.798480</td>\n      <td>30.880442</td>\n      <td>-14.099707</td>\n      <td>3.33</td>\n      <td>1.65</td>\n      <td>96.4</td>\n      <td>2421.0</td>\n      <td>6.2</td>\n      <td>54.29</td>\n      <td>224.0</td>\n    </tr>\n    <tr>\n      <th>3</th>\n      <td>Scherzer, Max</td>\n      <td>453286</td>\n      <td>2020-07-23</td>\n      <td>630851</td>\n      <td>4</td>\n      <td>1</td>\n      <td>4</td>\n      <td>CU</td>\n      <td>Curveball</td>\n      <td>79.7</td>\n      <td>...</td>\n      <td>7.680712</td>\n      <td>22.130450</td>\n      <td>-39.867212</td>\n      <td>3.51</td>\n      <td>1.65</td>\n      <td>79.6</td>\n      <td>2846.0</td>\n      <td>6.2</td>\n      <td>54.28</td>\n      <td>60.0</td>\n    </tr>\n    <tr>\n      <th>4</th>\n      <td>Scherzer, Max</td>\n      <td>453286</td>\n      <td>2020-07-23</td>\n      <td>630851</td>\n      <td>5</td>\n      <td>1</td>\n      <td>5</td>\n      <td>FF</td>\n      <td>4-Seam Fastball</td>\n      <td>96.1</td>\n      <td>...</td>\n      <td>-12.016982</td>\n      <td>30.128689</td>\n      <td>-14.962333</td>\n      <td>3.41</td>\n      <td>1.56</td>\n      <td>96.3</td>\n      <td>2450.0</td>\n      <td>6.4</td>\n      <td>54.09</td>\n      <td>227.0</td>\n    </tr>\n    <tr>\n      <th>...</th>\n      <td>...</td>\n      <td>...</td>\n      <td>...</td>\n      <td>...</td>\n      <td>...</td>\n      <td>...</td>\n      <td>...</td>\n      <td>...</td>\n      <td>...</td>\n      <td>...</td>\n      <td>...</td>\n      <td>...</td>\n      <td>...</td>\n      <td>...</td>\n      <td>...</td>\n      <td>...</td>\n      <td>...</td>\n      <td>...</td>\n      <td>...</td>\n      <td>...</td>\n      <td>...</td>\n    </tr>\n    <tr>\n      <th>2652974</th>\n      <td>Fried, Max</td>\n      <td>608331</td>\n      <td>2024-04-23</td>\n      <td>747130</td>\n      <td>208</td>\n      <td>65</td>\n      <td>1</td>\n      <td>SI</td>\n      <td>Sinker</td>\n      <td>94.4</td>\n      <td>...</td>\n      <td>12.302981</td>\n      <td>29.214628</td>\n      <td>-17.010887</td>\n      <td>3.41</td>\n      <td>1.61</td>\n      <td>95.3</td>\n      <td>2063.0</td>\n      <td>6.8</td>\n      <td>53.74</td>\n      <td>161.0</td>\n    </tr>\n    <tr>\n      <th>2652975</th>\n      <td>Fried, Max</td>\n      <td>608331</td>\n      <td>2024-04-23</td>\n      <td>747130</td>\n      <td>209</td>\n      <td>65</td>\n      <td>2</td>\n      <td>CH</td>\n      <td>Changeup</td>\n      <td>86.0</td>\n      <td>...</td>\n      <td>9.411616</td>\n      <td>23.509049</td>\n      <td>-26.146010</td>\n      <td>3.41</td>\n      <td>1.61</td>\n      <td>87.4</td>\n      <td>1350.0</td>\n      <td>7.0</td>\n      <td>53.52</td>\n      <td>144.0</td>\n    </tr>\n    <tr>\n      <th>2652976</th>\n      <td>Fried, Max</td>\n      <td>608331</td>\n      <td>2024-04-23</td>\n      <td>747130</td>\n      <td>210</td>\n      <td>66</td>\n      <td>1</td>\n      <td>FF</td>\n      <td>4-Seam Fastball</td>\n      <td>94.9</td>\n      <td>...</td>\n      <td>-0.521046</td>\n      <td>30.131341</td>\n      <td>-18.139126</td>\n      <td>3.18</td>\n      <td>1.51</td>\n      <td>95.6</td>\n      <td>2176.0</td>\n      <td>6.6</td>\n      <td>53.91</td>\n      <td>166.0</td>\n    </tr>\n    <tr>\n      <th>2652977</th>\n      <td>Fried, Max</td>\n      <td>608331</td>\n      <td>2024-04-23</td>\n      <td>747130</td>\n      <td>211</td>\n      <td>67</td>\n      <td>1</td>\n      <td>SI</td>\n      <td>Sinker</td>\n      <td>96.0</td>\n      <td>...</td>\n      <td>16.614980</td>\n      <td>35.080867</td>\n      <td>-20.045509</td>\n      <td>3.53</td>\n      <td>1.72</td>\n      <td>96.1</td>\n      <td>2195.0</td>\n      <td>6.7</td>\n      <td>53.83</td>\n      <td>153.0</td>\n    </tr>\n    <tr>\n      <th>2652978</th>\n      <td>Fried, Max</td>\n      <td>608331</td>\n      <td>2024-04-23</td>\n      <td>747130</td>\n      <td>212</td>\n      <td>67</td>\n      <td>2</td>\n      <td>SL</td>\n      <td>Slider</td>\n      <td>84.9</td>\n      <td>...</td>\n      <td>-5.077590</td>\n      <td>22.314613</td>\n      <td>-34.879846</td>\n      <td>3.53</td>\n      <td>1.72</td>\n      <td>85.8</td>\n      <td>2560.0</td>\n      <td>6.6</td>\n      <td>53.93</td>\n      <td>293.0</td>\n    </tr>\n  </tbody>\n</table>\n<p>2634586 rows × 32 columns</p>\n</div>"
     },
     "execution_count": 19,
     "metadata": {},
     "output_type": "execute_result"
    }
   ],
   "source": [
    "df"
   ],
   "metadata": {
    "collapsed": false,
    "ExecuteTime": {
     "end_time": "2024-04-28T08:05:13.459052Z",
     "start_time": "2024-04-28T08:05:10.530861Z"
    }
   },
   "id": "bea4994b048904c5",
   "execution_count": 19
  },
  {
   "cell_type": "code",
   "outputs": [
    {
     "data": {
      "text/plain": "            player_name                                          injuries\n0         Abreu, Albert                                      [2022-08-20]\n1         Adams, Austin                          [2021-03-07, 2022-08-05]\n2         Alcala, Jorge                          [2022-08-03, 2023-05-14]\n3      Alcantara, Sandy                          [2023-10-06, 2023-10-06]\n4      Alexander, Scott                          [2021-05-01, 2021-07-19]\n..                  ...                                               ...\n559         Zeuch, T.J.                                      [2021-04-18]\n560        Zimmer, Kyle                                      [2020-09-22]\n561  Zimmermann, Jordan                                      [2020-07-18]\n562   Zuñiga, Guillermo                                      [2023-08-24]\n563       deGrom, Jacob  [2021-07-17, 2022-03-31, 2023-06-12, 2023-06-12]\n\n[564 rows x 2 columns]",
      "text/html": "<div>\n<style scoped>\n    .dataframe tbody tr th:only-of-type {\n        vertical-align: middle;\n    }\n\n    .dataframe tbody tr th {\n        vertical-align: top;\n    }\n\n    .dataframe thead th {\n        text-align: right;\n    }\n</style>\n<table border=\"1\" class=\"dataframe\">\n  <thead>\n    <tr style=\"text-align: right;\">\n      <th></th>\n      <th>player_name</th>\n      <th>injuries</th>\n    </tr>\n  </thead>\n  <tbody>\n    <tr>\n      <th>0</th>\n      <td>Abreu, Albert</td>\n      <td>[2022-08-20]</td>\n    </tr>\n    <tr>\n      <th>1</th>\n      <td>Adams, Austin</td>\n      <td>[2021-03-07, 2022-08-05]</td>\n    </tr>\n    <tr>\n      <th>2</th>\n      <td>Alcala, Jorge</td>\n      <td>[2022-08-03, 2023-05-14]</td>\n    </tr>\n    <tr>\n      <th>3</th>\n      <td>Alcantara, Sandy</td>\n      <td>[2023-10-06, 2023-10-06]</td>\n    </tr>\n    <tr>\n      <th>4</th>\n      <td>Alexander, Scott</td>\n      <td>[2021-05-01, 2021-07-19]</td>\n    </tr>\n    <tr>\n      <th>...</th>\n      <td>...</td>\n      <td>...</td>\n    </tr>\n    <tr>\n      <th>559</th>\n      <td>Zeuch, T.J.</td>\n      <td>[2021-04-18]</td>\n    </tr>\n    <tr>\n      <th>560</th>\n      <td>Zimmer, Kyle</td>\n      <td>[2020-09-22]</td>\n    </tr>\n    <tr>\n      <th>561</th>\n      <td>Zimmermann, Jordan</td>\n      <td>[2020-07-18]</td>\n    </tr>\n    <tr>\n      <th>562</th>\n      <td>Zuñiga, Guillermo</td>\n      <td>[2023-08-24]</td>\n    </tr>\n    <tr>\n      <th>563</th>\n      <td>deGrom, Jacob</td>\n      <td>[2021-07-17, 2022-03-31, 2023-06-12, 2023-06-12]</td>\n    </tr>\n  </tbody>\n</table>\n<p>564 rows × 2 columns</p>\n</div>"
     },
     "execution_count": 20,
     "metadata": {},
     "output_type": "execute_result"
    }
   ],
   "source": [
    "df5 = df4.groupby('player_name')['Injury / Surgery Date'].apply(list).reset_index(name='injuries')\n",
    "df5"
   ],
   "metadata": {
    "collapsed": false,
    "ExecuteTime": {
     "end_time": "2024-04-28T08:05:13.530679Z",
     "start_time": "2024-04-28T08:05:13.463025Z"
    }
   },
   "id": "ce84449698d7b6ee",
   "execution_count": 20
  },
  {
   "cell_type": "code",
   "outputs": [
    {
     "data": {
      "text/plain": "          player_name   game_date  \\\n0      Abad, Fernando  2021-03-19   \n1      Abad, Fernando  2021-08-15   \n2      Abad, Fernando  2021-08-16   \n3      Abad, Fernando  2021-08-19   \n4      Abad, Fernando  2021-08-24   \n...               ...         ...   \n79165   deGrom, Jacob  2023-04-05   \n79166   deGrom, Jacob  2023-04-11   \n79167   deGrom, Jacob  2023-04-17   \n79168   deGrom, Jacob  2023-04-23   \n79169   deGrom, Jacob  2023-04-28   \n\n                                                  speeds  \n0      [78.5, 91.2, 78.5, 91.3, 90.8, 91.3, 91.1, 90....  \n1      [93.8, 94.6, 77.5, 77.2, 73.2, 94.8, 93.3, 74....  \n2      [91.0, 76.7, 77.9, 77.7, 90.9, 91.5, 90.4, 76....  \n3      [92.7, 93.1, 91.9, 76.0, 93.0, 74.3, 59.2, 71....  \n4      [76.0, 92.1, 79.2, 77.5, 91.0, 90.2, 76.7, 75....  \n...                                                  ...  \n79165  [98.5, 99.0, 98.7, 98.2, 92.6, 98.7, 99.1, 93....  \n79166  [99.1, 99.4, 99.4, 100.1, 92.4, 92.0, 100.3, 9...  \n79167  [98.2, 98.0, 98.1, 98.1, 98.7, 99.2, 85.7, 98....  \n79168  [98.0, 91.4, 91.1, 91.5, 90.8, 98.8, 91.7, 91....  \n79169  [98.1, 98.7, 91.4, 99.3, 99.1, 92.7, 93.0, 98....  \n\n[79170 rows x 3 columns]",
      "text/html": "<div>\n<style scoped>\n    .dataframe tbody tr th:only-of-type {\n        vertical-align: middle;\n    }\n\n    .dataframe tbody tr th {\n        vertical-align: top;\n    }\n\n    .dataframe thead th {\n        text-align: right;\n    }\n</style>\n<table border=\"1\" class=\"dataframe\">\n  <thead>\n    <tr style=\"text-align: right;\">\n      <th></th>\n      <th>player_name</th>\n      <th>game_date</th>\n      <th>speeds</th>\n    </tr>\n  </thead>\n  <tbody>\n    <tr>\n      <th>0</th>\n      <td>Abad, Fernando</td>\n      <td>2021-03-19</td>\n      <td>[78.5, 91.2, 78.5, 91.3, 90.8, 91.3, 91.1, 90....</td>\n    </tr>\n    <tr>\n      <th>1</th>\n      <td>Abad, Fernando</td>\n      <td>2021-08-15</td>\n      <td>[93.8, 94.6, 77.5, 77.2, 73.2, 94.8, 93.3, 74....</td>\n    </tr>\n    <tr>\n      <th>2</th>\n      <td>Abad, Fernando</td>\n      <td>2021-08-16</td>\n      <td>[91.0, 76.7, 77.9, 77.7, 90.9, 91.5, 90.4, 76....</td>\n    </tr>\n    <tr>\n      <th>3</th>\n      <td>Abad, Fernando</td>\n      <td>2021-08-19</td>\n      <td>[92.7, 93.1, 91.9, 76.0, 93.0, 74.3, 59.2, 71....</td>\n    </tr>\n    <tr>\n      <th>4</th>\n      <td>Abad, Fernando</td>\n      <td>2021-08-24</td>\n      <td>[76.0, 92.1, 79.2, 77.5, 91.0, 90.2, 76.7, 75....</td>\n    </tr>\n    <tr>\n      <th>...</th>\n      <td>...</td>\n      <td>...</td>\n      <td>...</td>\n    </tr>\n    <tr>\n      <th>79165</th>\n      <td>deGrom, Jacob</td>\n      <td>2023-04-05</td>\n      <td>[98.5, 99.0, 98.7, 98.2, 92.6, 98.7, 99.1, 93....</td>\n    </tr>\n    <tr>\n      <th>79166</th>\n      <td>deGrom, Jacob</td>\n      <td>2023-04-11</td>\n      <td>[99.1, 99.4, 99.4, 100.1, 92.4, 92.0, 100.3, 9...</td>\n    </tr>\n    <tr>\n      <th>79167</th>\n      <td>deGrom, Jacob</td>\n      <td>2023-04-17</td>\n      <td>[98.2, 98.0, 98.1, 98.1, 98.7, 99.2, 85.7, 98....</td>\n    </tr>\n    <tr>\n      <th>79168</th>\n      <td>deGrom, Jacob</td>\n      <td>2023-04-23</td>\n      <td>[98.0, 91.4, 91.1, 91.5, 90.8, 98.8, 91.7, 91....</td>\n    </tr>\n    <tr>\n      <th>79169</th>\n      <td>deGrom, Jacob</td>\n      <td>2023-04-28</td>\n      <td>[98.1, 98.7, 91.4, 99.3, 99.1, 92.7, 93.0, 98....</td>\n    </tr>\n  </tbody>\n</table>\n<p>79170 rows × 3 columns</p>\n</div>"
     },
     "execution_count": 21,
     "metadata": {},
     "output_type": "execute_result"
    }
   ],
   "source": [
    "df6 = df.groupby(['player_name', 'game_date'])['release_speed'].apply(list).reset_index(name='speeds')\n",
    "df6"
   ],
   "metadata": {
    "collapsed": false,
    "ExecuteTime": {
     "end_time": "2024-04-28T08:05:20.630426Z",
     "start_time": "2024-04-28T08:05:13.534974Z"
    }
   },
   "id": "dda77fe6b2672802",
   "execution_count": 21
  },
  {
   "cell_type": "code",
   "outputs": [],
   "source": [
    "df = df[['player_name', 'game_date', 'pitch_of_game', 'release_speed', 'precedes_injury']]\n",
    "df\n",
    "    "
   ],
   "metadata": {
    "collapsed": false,
    "is_executing": true
   },
   "id": "69f407c41708a041",
   "execution_count": null
  },
  {
   "cell_type": "code",
   "outputs": [],
   "source": [],
   "metadata": {
    "collapsed": false,
    "ExecuteTime": {
     "end_time": "2024-04-28T08:05:24.620567Z",
     "start_time": "2024-04-28T08:05:24.607308Z"
    }
   },
   "id": "ccfa343733b08cee",
   "execution_count": 22
  }
 ],
 "metadata": {
  "kernelspec": {
   "display_name": "Python 3",
   "language": "python",
   "name": "python3"
  },
  "language_info": {
   "codemirror_mode": {
    "name": "ipython",
    "version": 2
   },
   "file_extension": ".py",
   "mimetype": "text/x-python",
   "name": "python",
   "nbconvert_exporter": "python",
   "pygments_lexer": "ipython2",
   "version": "2.7.6"
  }
 },
 "nbformat": 4,
 "nbformat_minor": 5
}
