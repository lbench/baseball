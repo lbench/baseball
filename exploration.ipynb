{
 "cells": [
  {
   "cell_type": "code",
   "execution_count": 1,
   "id": "initial_id",
   "metadata": {
    "collapsed": true,
    "ExecuteTime": {
     "end_time": "2024-04-25T07:32:05.179142Z",
     "start_time": "2024-04-25T07:32:02.710274Z"
    }
   },
   "outputs": [],
   "source": [
    "import os\n",
    "import pandas as pd"
   ]
  },
  {
   "cell_type": "code",
   "outputs": [
    {
     "name": "stdout",
     "output_type": "stream",
     "text": [
      "pitch_type    19163\n",
      "pitch_name    19163\n",
      "dtype: int64\n"
     ]
    }
   ],
   "source": [
    "df = pd.read_csv('statcast_raw_csv_files/2021_statcast.csv')\n",
    "print(df[['pitch_type', 'pitch_name']].isnull().sum())"
   ],
   "metadata": {
    "collapsed": false,
    "ExecuteTime": {
     "end_time": "2024-04-25T07:38:29.499115Z",
     "start_time": "2024-04-25T07:38:17.813818Z"
    }
   },
   "id": "ab26c56f93ecf5e1",
   "execution_count": 4
  },
  {
   "cell_type": "code",
   "outputs": [
    {
     "name": "stdout",
     "output_type": "stream",
     "text": [
      "pitch_type    16\n",
      "pitch_name    16\n",
      "dtype: int64\n"
     ]
    }
   ],
   "source": [
    "print(df[['pitch_type', 'pitch_name']].nunique())"
   ],
   "metadata": {
    "collapsed": false,
    "ExecuteTime": {
     "end_time": "2024-04-25T07:40:56.192905Z",
     "start_time": "2024-04-25T07:40:56.076968Z"
    }
   },
   "id": "791c8e71ad03956a",
   "execution_count": 6
  },
  {
   "cell_type": "code",
   "outputs": [
    {
     "name": "stdout",
     "output_type": "stream",
     "text": [
      "game_date      0\n",
      "player_name    0\n",
      "dtype: int64\n"
     ]
    }
   ],
   "source": [
    "print(df[['game_date', 'player_name']].isnull().sum())"
   ],
   "metadata": {
    "collapsed": false,
    "ExecuteTime": {
     "end_time": "2024-04-25T07:46:37.462799Z",
     "start_time": "2024-04-25T07:46:37.355342Z"
    }
   },
   "id": "e6fe1f83341a161",
   "execution_count": 8
  },
  {
   "cell_type": "code",
   "outputs": [
    {
     "name": "stdout",
     "output_type": "stream",
     "text": [
      "player_name    1107\n",
      "pitcher        1108\n",
      "dtype: int64\n"
     ]
    }
   ],
   "source": [
    "print(df[['player_name', 'pitcher']].nunique())"
   ],
   "metadata": {
    "collapsed": false,
    "ExecuteTime": {
     "end_time": "2024-04-25T07:49:55.971208Z",
     "start_time": "2024-04-25T07:49:55.757444Z"
    }
   },
   "id": "e83dce565c44e917",
   "execution_count": 9
  },
  {
   "cell_type": "code",
   "outputs": [],
   "source": [
    "df3 = df[['player_name', 'pitcher']].drop_duplicates()"
   ],
   "metadata": {
    "collapsed": false,
    "ExecuteTime": {
     "end_time": "2024-04-26T03:19:38.326583Z",
     "start_time": "2024-04-26T03:19:38.113675Z"
    }
   },
   "id": "7e717059a007d97d",
   "execution_count": 39
  },
  {
   "cell_type": "code",
   "outputs": [
    {
     "data": {
      "text/plain": "player_name      \nGuerra, Javy         2\nAbad, Fernando       1\nPannone, Thomas      1\nPatiño, Luis         1\nParsons, Tommy       1\n                    ..\nGose, Anthony        1\nGott, Trevor         1\nGoudeau, Ashton      1\nGraterol, Brusdar    1\nÁlvarez, Daniel      1\nName: count, Length: 1107, dtype: int64"
     },
     "execution_count": 59,
     "metadata": {},
     "output_type": "execute_result"
    }
   ],
   "source": [
    "df3[['player_name']].value_counts()"
   ],
   "metadata": {
    "collapsed": false,
    "ExecuteTime": {
     "end_time": "2024-04-26T03:39:56.001040Z",
     "start_time": "2024-04-26T03:39:55.976186Z"
    }
   },
   "id": "c71720587038aebe",
   "execution_count": 59
  },
  {
   "cell_type": "code",
   "outputs": [
    {
     "data": {
      "text/plain": "      player_name  pitcher\n367  Guerra, Javy   642770\n650  Guerra, Javy   457915",
      "text/html": "<div>\n<style scoped>\n    .dataframe tbody tr th:only-of-type {\n        vertical-align: middle;\n    }\n\n    .dataframe tbody tr th {\n        vertical-align: top;\n    }\n\n    .dataframe thead th {\n        text-align: right;\n    }\n</style>\n<table border=\"1\" class=\"dataframe\">\n  <thead>\n    <tr style=\"text-align: right;\">\n      <th></th>\n      <th>player_name</th>\n      <th>pitcher</th>\n    </tr>\n  </thead>\n  <tbody>\n    <tr>\n      <th>367</th>\n      <td>Guerra, Javy</td>\n      <td>642770</td>\n    </tr>\n    <tr>\n      <th>650</th>\n      <td>Guerra, Javy</td>\n      <td>457915</td>\n    </tr>\n  </tbody>\n</table>\n</div>"
     },
     "execution_count": 60,
     "metadata": {},
     "output_type": "execute_result"
    }
   ],
   "source": [
    "df3.loc[df3['player_name'] == 'Guerra, Javy']"
   ],
   "metadata": {
    "collapsed": false,
    "ExecuteTime": {
     "end_time": "2024-04-26T03:40:48.388253Z",
     "start_time": "2024-04-26T03:40:48.271256Z"
    }
   },
   "id": "40382492f1fbacfa",
   "execution_count": 60
  },
  {
   "cell_type": "code",
   "outputs": [
    {
     "name": "stdout",
     "output_type": "stream",
     "text": [
      "        Unnamed: 0 pitch_type   game_date  release_speed  release_pos_x  \\\n",
      "22519         2600         SI  2021-10-01           98.6          -1.30   \n",
      "22520         2665         SI  2021-10-01           99.1          -1.28   \n",
      "22521         2841         SI  2021-10-01           97.9          -1.25   \n",
      "22522         2945         SI  2021-10-01           99.0          -1.27   \n",
      "22523         3081         SI  2021-10-01           98.5          -1.55   \n",
      "...            ...        ...         ...            ...            ...   \n",
      "759377        2277        NaN  2021-03-16            NaN            NaN   \n",
      "759378        2308        NaN  2021-03-16            NaN            NaN   \n",
      "759379        2466        NaN  2021-03-16            NaN            NaN   \n",
      "759380        2639        NaN  2021-03-16            NaN            NaN   \n",
      "759381        2754        NaN  2021-03-16            NaN            NaN   \n",
      "\n",
      "        release_pos_z   player_name  batter  pitcher        events  ...  \\\n",
      "22519            5.41  Guerra, Javy  446334   642770     force_out  ...   \n",
      "22520            5.48  Guerra, Javy  446334   642770           NaN  ...   \n",
      "22521            5.47  Guerra, Javy  573262   642770          walk  ...   \n",
      "22522            5.48  Guerra, Javy  573262   642770           NaN  ...   \n",
      "22523            5.65  Guerra, Javy  573262   642770           NaN  ...   \n",
      "...               ...           ...     ...      ...           ...  ...   \n",
      "759377            NaN  Guerra, Javy  668709   457915           NaN  ...   \n",
      "759378            NaN  Guerra, Javy  657193   457915  hit_by_pitch  ...   \n",
      "759379            NaN  Guerra, Javy  657193   457915           NaN  ...   \n",
      "759380            NaN  Guerra, Javy  657193   457915           NaN  ...   \n",
      "759381            NaN  Guerra, Javy  642423   457915        single  ...   \n",
      "\n",
      "       fld_score  post_away_score  post_home_score  post_bat_score  \\\n",
      "22519          0                0                2               2   \n",
      "22520          0                0                2               2   \n",
      "22521          0                0                2               2   \n",
      "22522          0                0                2               2   \n",
      "22523          0                0                2               2   \n",
      "...          ...              ...              ...             ...   \n",
      "759377         3                4                3               4   \n",
      "759378         3                4                3               4   \n",
      "759379         3                4                3               4   \n",
      "759380         3                4                3               4   \n",
      "759381         3                4                3               4   \n",
      "\n",
      "        post_fld_score  if_fielding_alignment of_fielding_alignment spin_axis  \\\n",
      "22519                0               Standard              Standard     237.0   \n",
      "22520                0               Standard              Standard     233.0   \n",
      "22521                0          Infield shift              Standard     236.0   \n",
      "22522                0          Infield shift              Standard     235.0   \n",
      "22523                0          Infield shift              Standard     231.0   \n",
      "...                ...                    ...                   ...       ...   \n",
      "759377               3                    NaN                   NaN       NaN   \n",
      "759378               3                    NaN                   NaN       NaN   \n",
      "759379               3                    NaN                   NaN       NaN   \n",
      "759380               3                    NaN                   NaN       NaN   \n",
      "759381               3                    NaN                   NaN       NaN   \n",
      "\n",
      "       delta_home_win_exp delta_run_exp  \n",
      "22519              -0.027        -0.375  \n",
      "22520               0.000        -0.074  \n",
      "22521               0.013         0.191  \n",
      "22522               0.000         0.000  \n",
      "22523               0.000         0.072  \n",
      "...                   ...           ...  \n",
      "759377              0.000           NaN  \n",
      "759378             -0.026           NaN  \n",
      "759379              0.061           NaN  \n",
      "759380              0.000           NaN  \n",
      "759381             -0.037           NaN  \n",
      "\n",
      "[256 rows x 93 columns]\n"
     ]
    }
   ],
   "source": [
    "duplicate_names = df.groupby('player_name').filter(lambda x: x['pitcher'].nunique() > 1)\n",
    "print(duplicate_names)"
   ],
   "metadata": {
    "collapsed": false,
    "ExecuteTime": {
     "end_time": "2024-04-26T04:11:01.023808Z",
     "start_time": "2024-04-26T04:10:59.286270Z"
    }
   },
   "id": "ba47f741066f5364",
   "execution_count": 63
  },
  {
   "cell_type": "code",
   "outputs": [
    {
     "name": "stdout",
     "output_type": "stream",
     "text": [
      "   a  b  c  d\n",
      "1  1  3  5  7\n",
      "2  2  4  6  8\n"
     ]
    }
   ],
   "source": [
    "x = dict(zip(\"abcd\", [[1,2],[3,4], [5,6], [7,8]]))\n",
    "x = pd.DataFrame(x, index=[\"1\", \"2\"])\n",
    "print(x)"
   ],
   "metadata": {
    "collapsed": false,
    "ExecuteTime": {
     "end_time": "2024-04-26T04:56:10.008389Z",
     "start_time": "2024-04-26T04:56:09.996675Z"
    }
   },
   "id": "7e5e79078dc72b8",
   "execution_count": 69
  },
  {
   "cell_type": "code",
   "outputs": [],
   "source": [],
   "metadata": {
    "collapsed": false
   },
   "id": "74cbda4eeb656742"
  }
 ],
 "metadata": {
  "kernelspec": {
   "display_name": "Python 3",
   "language": "python",
   "name": "python3"
  },
  "language_info": {
   "codemirror_mode": {
    "name": "ipython",
    "version": 2
   },
   "file_extension": ".py",
   "mimetype": "text/x-python",
   "name": "python",
   "nbconvert_exporter": "python",
   "pygments_lexer": "ipython2",
   "version": "2.7.6"
  }
 },
 "nbformat": 4,
 "nbformat_minor": 5
}
