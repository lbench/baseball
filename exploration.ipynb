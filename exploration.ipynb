{
 "cells": [
  {
   "cell_type": "code",
   "execution_count": 88,
   "id": "initial_id",
   "metadata": {
    "collapsed": true,
    "ExecuteTime": {
     "end_time": "2024-04-27T08:10:30.256309Z",
     "start_time": "2024-04-27T08:10:30.206988Z"
    }
   },
   "outputs": [],
   "source": [
    "import os\n",
    "import pandas as pd"
   ]
  },
  {
   "cell_type": "code",
   "outputs": [
    {
     "name": "stdout",
     "output_type": "stream",
     "text": [
      "pitch_type    19163\n",
      "pitch_name    19163\n",
      "dtype: int64\n"
     ]
    }
   ],
   "source": [
    "df = pd.read_csv('statcast_raw_csv_files/2021_statcast.csv')\n",
    "print(df[['pitch_type', 'pitch_name']].isnull().sum())"
   ],
   "metadata": {
    "collapsed": false,
    "ExecuteTime": {
     "end_time": "2024-04-27T08:10:50.332893Z",
     "start_time": "2024-04-27T08:10:30.283588Z"
    }
   },
   "id": "ab26c56f93ecf5e1",
   "execution_count": 89
  },
  {
   "cell_type": "code",
   "outputs": [
    {
     "name": "stdout",
     "output_type": "stream",
     "text": [
      "pitch_type    16\n",
      "pitch_name    16\n",
      "dtype: int64\n"
     ]
    }
   ],
   "source": [
    "print(df[['pitch_type', 'pitch_name']].nunique())"
   ],
   "metadata": {
    "collapsed": false,
    "ExecuteTime": {
     "end_time": "2024-04-27T08:10:50.490971Z",
     "start_time": "2024-04-27T08:10:50.344871Z"
    }
   },
   "id": "791c8e71ad03956a",
   "execution_count": 90
  },
  {
   "cell_type": "code",
   "outputs": [
    {
     "name": "stdout",
     "output_type": "stream",
     "text": [
      "game_date      0\n",
      "player_name    0\n",
      "dtype: int64\n"
     ]
    }
   ],
   "source": [
    "print(df[['game_date', 'player_name']].isnull().sum())"
   ],
   "metadata": {
    "collapsed": false,
    "ExecuteTime": {
     "end_time": "2024-04-27T08:10:50.601982Z",
     "start_time": "2024-04-27T08:10:50.493757Z"
    }
   },
   "id": "e6fe1f83341a161",
   "execution_count": 91
  },
  {
   "cell_type": "code",
   "outputs": [
    {
     "name": "stdout",
     "output_type": "stream",
     "text": [
      "player_name    1107\n",
      "pitcher        1108\n",
      "dtype: int64\n"
     ]
    }
   ],
   "source": [
    "print(df[['player_name', 'pitcher']].nunique())"
   ],
   "metadata": {
    "collapsed": false,
    "ExecuteTime": {
     "end_time": "2024-04-27T08:10:50.734343Z",
     "start_time": "2024-04-27T08:10:50.607577Z"
    }
   },
   "id": "e83dce565c44e917",
   "execution_count": 92
  },
  {
   "cell_type": "code",
   "outputs": [],
   "source": [
    "df3 = df[['player_name', 'pitcher']].drop_duplicates()"
   ],
   "metadata": {
    "collapsed": false,
    "ExecuteTime": {
     "end_time": "2024-04-27T08:10:50.922800Z",
     "start_time": "2024-04-27T08:10:50.740042Z"
    }
   },
   "id": "7e717059a007d97d",
   "execution_count": 93
  },
  {
   "cell_type": "code",
   "outputs": [
    {
     "data": {
      "text/plain": "player_name      \nGuerra, Javy         2\nAbad, Fernando       1\nPannone, Thomas      1\nPatiño, Luis         1\nParsons, Tommy       1\n                    ..\nGose, Anthony        1\nGott, Trevor         1\nGoudeau, Ashton      1\nGraterol, Brusdar    1\nÁlvarez, Daniel      1\nName: count, Length: 1107, dtype: int64"
     },
     "execution_count": 94,
     "metadata": {},
     "output_type": "execute_result"
    }
   ],
   "source": [
    "df3[['player_name']].value_counts()"
   ],
   "metadata": {
    "collapsed": false,
    "ExecuteTime": {
     "end_time": "2024-04-27T08:10:50.968975Z",
     "start_time": "2024-04-27T08:10:50.926919Z"
    }
   },
   "id": "c71720587038aebe",
   "execution_count": 94
  },
  {
   "cell_type": "code",
   "outputs": [
    {
     "data": {
      "text/plain": "         player_name  pitcher\n22519   Guerra, Javy   642770\n180961  Guerra, Javy   457915",
      "text/html": "<div>\n<style scoped>\n    .dataframe tbody tr th:only-of-type {\n        vertical-align: middle;\n    }\n\n    .dataframe tbody tr th {\n        vertical-align: top;\n    }\n\n    .dataframe thead th {\n        text-align: right;\n    }\n</style>\n<table border=\"1\" class=\"dataframe\">\n  <thead>\n    <tr style=\"text-align: right;\">\n      <th></th>\n      <th>player_name</th>\n      <th>pitcher</th>\n    </tr>\n  </thead>\n  <tbody>\n    <tr>\n      <th>22519</th>\n      <td>Guerra, Javy</td>\n      <td>642770</td>\n    </tr>\n    <tr>\n      <th>180961</th>\n      <td>Guerra, Javy</td>\n      <td>457915</td>\n    </tr>\n  </tbody>\n</table>\n</div>"
     },
     "execution_count": 95,
     "metadata": {},
     "output_type": "execute_result"
    }
   ],
   "source": [
    "df3.loc[df3['player_name'] == 'Guerra, Javy']"
   ],
   "metadata": {
    "collapsed": false,
    "ExecuteTime": {
     "end_time": "2024-04-27T08:10:50.996571Z",
     "start_time": "2024-04-27T08:10:50.976214Z"
    }
   },
   "id": "40382492f1fbacfa",
   "execution_count": 95
  },
  {
   "cell_type": "code",
   "outputs": [
    {
     "name": "stdout",
     "output_type": "stream",
     "text": [
      "        Unnamed: 0 pitch_type   game_date  release_speed  release_pos_x  \\\n",
      "22519         2600         SI  2021-10-01           98.6          -1.30   \n",
      "22520         2665         SI  2021-10-01           99.1          -1.28   \n",
      "22521         2841         SI  2021-10-01           97.9          -1.25   \n",
      "22522         2945         SI  2021-10-01           99.0          -1.27   \n",
      "22523         3081         SI  2021-10-01           98.5          -1.55   \n",
      "...            ...        ...         ...            ...            ...   \n",
      "759377        2277        NaN  2021-03-16            NaN            NaN   \n",
      "759378        2308        NaN  2021-03-16            NaN            NaN   \n",
      "759379        2466        NaN  2021-03-16            NaN            NaN   \n",
      "759380        2639        NaN  2021-03-16            NaN            NaN   \n",
      "759381        2754        NaN  2021-03-16            NaN            NaN   \n",
      "\n",
      "        release_pos_z   player_name  batter  pitcher        events  ...  \\\n",
      "22519            5.41  Guerra, Javy  446334   642770     force_out  ...   \n",
      "22520            5.48  Guerra, Javy  446334   642770           NaN  ...   \n",
      "22521            5.47  Guerra, Javy  573262   642770          walk  ...   \n",
      "22522            5.48  Guerra, Javy  573262   642770           NaN  ...   \n",
      "22523            5.65  Guerra, Javy  573262   642770           NaN  ...   \n",
      "...               ...           ...     ...      ...           ...  ...   \n",
      "759377            NaN  Guerra, Javy  668709   457915           NaN  ...   \n",
      "759378            NaN  Guerra, Javy  657193   457915  hit_by_pitch  ...   \n",
      "759379            NaN  Guerra, Javy  657193   457915           NaN  ...   \n",
      "759380            NaN  Guerra, Javy  657193   457915           NaN  ...   \n",
      "759381            NaN  Guerra, Javy  642423   457915        single  ...   \n",
      "\n",
      "       fld_score  post_away_score  post_home_score  post_bat_score  \\\n",
      "22519          0                0                2               2   \n",
      "22520          0                0                2               2   \n",
      "22521          0                0                2               2   \n",
      "22522          0                0                2               2   \n",
      "22523          0                0                2               2   \n",
      "...          ...              ...              ...             ...   \n",
      "759377         3                4                3               4   \n",
      "759378         3                4                3               4   \n",
      "759379         3                4                3               4   \n",
      "759380         3                4                3               4   \n",
      "759381         3                4                3               4   \n",
      "\n",
      "        post_fld_score  if_fielding_alignment of_fielding_alignment spin_axis  \\\n",
      "22519                0               Standard              Standard     237.0   \n",
      "22520                0               Standard              Standard     233.0   \n",
      "22521                0          Infield shift              Standard     236.0   \n",
      "22522                0          Infield shift              Standard     235.0   \n",
      "22523                0          Infield shift              Standard     231.0   \n",
      "...                ...                    ...                   ...       ...   \n",
      "759377               3                    NaN                   NaN       NaN   \n",
      "759378               3                    NaN                   NaN       NaN   \n",
      "759379               3                    NaN                   NaN       NaN   \n",
      "759380               3                    NaN                   NaN       NaN   \n",
      "759381               3                    NaN                   NaN       NaN   \n",
      "\n",
      "       delta_home_win_exp delta_run_exp  \n",
      "22519              -0.027        -0.375  \n",
      "22520               0.000        -0.074  \n",
      "22521               0.013         0.191  \n",
      "22522               0.000         0.000  \n",
      "22523               0.000         0.072  \n",
      "...                   ...           ...  \n",
      "759377              0.000           NaN  \n",
      "759378             -0.026           NaN  \n",
      "759379              0.061           NaN  \n",
      "759380              0.000           NaN  \n",
      "759381             -0.037           NaN  \n",
      "\n",
      "[256 rows x 93 columns]\n"
     ]
    }
   ],
   "source": [
    "duplicate_names = df.groupby('player_name').filter(lambda x: x['pitcher'].nunique() > 1)\n",
    "print(duplicate_names)"
   ],
   "metadata": {
    "collapsed": false,
    "ExecuteTime": {
     "end_time": "2024-04-27T08:10:52.806283Z",
     "start_time": "2024-04-27T08:10:50.999204Z"
    }
   },
   "id": "ba47f741066f5364",
   "execution_count": 96
  },
  {
   "cell_type": "code",
   "outputs": [
    {
     "name": "stdout",
     "output_type": "stream",
     "text": [
      "   a  b  c  d\n",
      "1  1  3  5  7\n",
      "2  2  4  6  8\n"
     ]
    }
   ],
   "source": [
    "x = dict(zip(\"abcd\", [[1,2],[3,4], [5,6], [7,8]]))\n",
    "x = pd.DataFrame(x, index=[\"1\", \"2\"])\n",
    "print(x)"
   ],
   "metadata": {
    "collapsed": false,
    "ExecuteTime": {
     "end_time": "2024-04-27T08:10:52.848532Z",
     "start_time": "2024-04-27T08:10:52.809940Z"
    }
   },
   "id": "7e5e79078dc72b8",
   "execution_count": 97
  },
  {
   "cell_type": "code",
   "outputs": [
    {
     "data": {
      "text/plain": "        Unnamed: 0 pitch_type   game_date  release_speed  release_pos_x  \\\n0              114         FF  2021-11-02           93.7           1.39   \n1              120         FF  2021-11-02           92.9           1.38   \n2              123         FF  2021-11-02           93.1           1.35   \n3              135         FF  2021-11-02           94.6           1.31   \n4              140         FF  2021-11-02           93.6           1.31   \n...            ...        ...         ...            ...            ...   \n763186        1754        NaN  2021-03-15            NaN            NaN   \n763187        1963        NaN  2021-03-15            NaN            NaN   \n763188        2191        NaN  2021-03-15            NaN            NaN   \n763189        2317        NaN  2021-03-15            NaN            NaN   \n763190        2412        NaN  2021-03-15            NaN            NaN   \n\n        release_pos_z    player_name  batter  pitcher     events  ...  \\\n0                6.72    Smith, Will  493329   519293  field_out  ...   \n1                6.72    Smith, Will  493329   519293        NaN  ...   \n2                6.73    Smith, Will  493329   519293        NaN  ...   \n3                6.73    Smith, Will  670541   519293  field_out  ...   \n4                6.80    Smith, Will  670541   519293        NaN  ...   \n...               ...            ...     ...      ...        ...  ...   \n763186            NaN  Wilson, Bryse  666135   669060  field_out  ...   \n763187            NaN  Wilson, Bryse  680777   669060  field_out  ...   \n763188            NaN  Wilson, Bryse  595909   669060  field_out  ...   \n763189            NaN  Wilson, Bryse  650333   669060     single  ...   \n763190            NaN  Wilson, Bryse  650333   669060        NaN  ...   \n\n       fld_score  post_away_score  post_home_score  post_bat_score  \\\n0              7                7                0               0   \n1              7                7                0               0   \n2              7                7                0               0   \n3              7                7                0               0   \n4              7                7                0               0   \n...          ...              ...              ...             ...   \n763186         0                0                0               0   \n763187         0                0                0               0   \n763188         0                0                0               0   \n763189         0                0                0               0   \n763190         0                0                0               0   \n\n        post_fld_score  if_fielding_alignment of_fielding_alignment spin_axis  \\\n0                    7               Standard              Standard     146.0   \n1                    7               Standard              Standard     145.0   \n2                    7               Standard              Standard     143.0   \n3                    7          Infield shift              Standard     140.0   \n4                    7          Infield shift              Standard     152.0   \n...                ...                    ...                   ...       ...   \n763186               0                    NaN                   NaN       NaN   \n763187               0                    NaN                   NaN       NaN   \n763188               0                    NaN                   NaN       NaN   \n763189               0                    NaN                   NaN       NaN   \n763190               0                    NaN                   NaN       NaN   \n\n       delta_home_win_exp delta_run_exp  \n0                   0.000        -0.138  \n1                   0.000        -0.047  \n2                   0.000        -0.042  \n3                  -0.001        -0.387  \n4                   0.000         0.120  \n...                   ...           ...  \n763186              0.022           NaN  \n763187              0.028           NaN  \n763188              0.033           NaN  \n763189             -0.036           NaN  \n763190              0.000           NaN  \n\n[763191 rows x 93 columns]",
      "text/html": "<div>\n<style scoped>\n    .dataframe tbody tr th:only-of-type {\n        vertical-align: middle;\n    }\n\n    .dataframe tbody tr th {\n        vertical-align: top;\n    }\n\n    .dataframe thead th {\n        text-align: right;\n    }\n</style>\n<table border=\"1\" class=\"dataframe\">\n  <thead>\n    <tr style=\"text-align: right;\">\n      <th></th>\n      <th>Unnamed: 0</th>\n      <th>pitch_type</th>\n      <th>game_date</th>\n      <th>release_speed</th>\n      <th>release_pos_x</th>\n      <th>release_pos_z</th>\n      <th>player_name</th>\n      <th>batter</th>\n      <th>pitcher</th>\n      <th>events</th>\n      <th>...</th>\n      <th>fld_score</th>\n      <th>post_away_score</th>\n      <th>post_home_score</th>\n      <th>post_bat_score</th>\n      <th>post_fld_score</th>\n      <th>if_fielding_alignment</th>\n      <th>of_fielding_alignment</th>\n      <th>spin_axis</th>\n      <th>delta_home_win_exp</th>\n      <th>delta_run_exp</th>\n    </tr>\n  </thead>\n  <tbody>\n    <tr>\n      <th>0</th>\n      <td>114</td>\n      <td>FF</td>\n      <td>2021-11-02</td>\n      <td>93.7</td>\n      <td>1.39</td>\n      <td>6.72</td>\n      <td>Smith, Will</td>\n      <td>493329</td>\n      <td>519293</td>\n      <td>field_out</td>\n      <td>...</td>\n      <td>7</td>\n      <td>7</td>\n      <td>0</td>\n      <td>0</td>\n      <td>7</td>\n      <td>Standard</td>\n      <td>Standard</td>\n      <td>146.0</td>\n      <td>0.000</td>\n      <td>-0.138</td>\n    </tr>\n    <tr>\n      <th>1</th>\n      <td>120</td>\n      <td>FF</td>\n      <td>2021-11-02</td>\n      <td>92.9</td>\n      <td>1.38</td>\n      <td>6.72</td>\n      <td>Smith, Will</td>\n      <td>493329</td>\n      <td>519293</td>\n      <td>NaN</td>\n      <td>...</td>\n      <td>7</td>\n      <td>7</td>\n      <td>0</td>\n      <td>0</td>\n      <td>7</td>\n      <td>Standard</td>\n      <td>Standard</td>\n      <td>145.0</td>\n      <td>0.000</td>\n      <td>-0.047</td>\n    </tr>\n    <tr>\n      <th>2</th>\n      <td>123</td>\n      <td>FF</td>\n      <td>2021-11-02</td>\n      <td>93.1</td>\n      <td>1.35</td>\n      <td>6.73</td>\n      <td>Smith, Will</td>\n      <td>493329</td>\n      <td>519293</td>\n      <td>NaN</td>\n      <td>...</td>\n      <td>7</td>\n      <td>7</td>\n      <td>0</td>\n      <td>0</td>\n      <td>7</td>\n      <td>Standard</td>\n      <td>Standard</td>\n      <td>143.0</td>\n      <td>0.000</td>\n      <td>-0.042</td>\n    </tr>\n    <tr>\n      <th>3</th>\n      <td>135</td>\n      <td>FF</td>\n      <td>2021-11-02</td>\n      <td>94.6</td>\n      <td>1.31</td>\n      <td>6.73</td>\n      <td>Smith, Will</td>\n      <td>670541</td>\n      <td>519293</td>\n      <td>field_out</td>\n      <td>...</td>\n      <td>7</td>\n      <td>7</td>\n      <td>0</td>\n      <td>0</td>\n      <td>7</td>\n      <td>Infield shift</td>\n      <td>Standard</td>\n      <td>140.0</td>\n      <td>-0.001</td>\n      <td>-0.387</td>\n    </tr>\n    <tr>\n      <th>4</th>\n      <td>140</td>\n      <td>FF</td>\n      <td>2021-11-02</td>\n      <td>93.6</td>\n      <td>1.31</td>\n      <td>6.80</td>\n      <td>Smith, Will</td>\n      <td>670541</td>\n      <td>519293</td>\n      <td>NaN</td>\n      <td>...</td>\n      <td>7</td>\n      <td>7</td>\n      <td>0</td>\n      <td>0</td>\n      <td>7</td>\n      <td>Infield shift</td>\n      <td>Standard</td>\n      <td>152.0</td>\n      <td>0.000</td>\n      <td>0.120</td>\n    </tr>\n    <tr>\n      <th>...</th>\n      <td>...</td>\n      <td>...</td>\n      <td>...</td>\n      <td>...</td>\n      <td>...</td>\n      <td>...</td>\n      <td>...</td>\n      <td>...</td>\n      <td>...</td>\n      <td>...</td>\n      <td>...</td>\n      <td>...</td>\n      <td>...</td>\n      <td>...</td>\n      <td>...</td>\n      <td>...</td>\n      <td>...</td>\n      <td>...</td>\n      <td>...</td>\n      <td>...</td>\n      <td>...</td>\n    </tr>\n    <tr>\n      <th>763186</th>\n      <td>1754</td>\n      <td>NaN</td>\n      <td>2021-03-15</td>\n      <td>NaN</td>\n      <td>NaN</td>\n      <td>NaN</td>\n      <td>Wilson, Bryse</td>\n      <td>666135</td>\n      <td>669060</td>\n      <td>field_out</td>\n      <td>...</td>\n      <td>0</td>\n      <td>0</td>\n      <td>0</td>\n      <td>0</td>\n      <td>0</td>\n      <td>NaN</td>\n      <td>NaN</td>\n      <td>NaN</td>\n      <td>0.022</td>\n      <td>NaN</td>\n    </tr>\n    <tr>\n      <th>763187</th>\n      <td>1963</td>\n      <td>NaN</td>\n      <td>2021-03-15</td>\n      <td>NaN</td>\n      <td>NaN</td>\n      <td>NaN</td>\n      <td>Wilson, Bryse</td>\n      <td>680777</td>\n      <td>669060</td>\n      <td>field_out</td>\n      <td>...</td>\n      <td>0</td>\n      <td>0</td>\n      <td>0</td>\n      <td>0</td>\n      <td>0</td>\n      <td>NaN</td>\n      <td>NaN</td>\n      <td>NaN</td>\n      <td>0.028</td>\n      <td>NaN</td>\n    </tr>\n    <tr>\n      <th>763188</th>\n      <td>2191</td>\n      <td>NaN</td>\n      <td>2021-03-15</td>\n      <td>NaN</td>\n      <td>NaN</td>\n      <td>NaN</td>\n      <td>Wilson, Bryse</td>\n      <td>595909</td>\n      <td>669060</td>\n      <td>field_out</td>\n      <td>...</td>\n      <td>0</td>\n      <td>0</td>\n      <td>0</td>\n      <td>0</td>\n      <td>0</td>\n      <td>NaN</td>\n      <td>NaN</td>\n      <td>NaN</td>\n      <td>0.033</td>\n      <td>NaN</td>\n    </tr>\n    <tr>\n      <th>763189</th>\n      <td>2317</td>\n      <td>NaN</td>\n      <td>2021-03-15</td>\n      <td>NaN</td>\n      <td>NaN</td>\n      <td>NaN</td>\n      <td>Wilson, Bryse</td>\n      <td>650333</td>\n      <td>669060</td>\n      <td>single</td>\n      <td>...</td>\n      <td>0</td>\n      <td>0</td>\n      <td>0</td>\n      <td>0</td>\n      <td>0</td>\n      <td>NaN</td>\n      <td>NaN</td>\n      <td>NaN</td>\n      <td>-0.036</td>\n      <td>NaN</td>\n    </tr>\n    <tr>\n      <th>763190</th>\n      <td>2412</td>\n      <td>NaN</td>\n      <td>2021-03-15</td>\n      <td>NaN</td>\n      <td>NaN</td>\n      <td>NaN</td>\n      <td>Wilson, Bryse</td>\n      <td>650333</td>\n      <td>669060</td>\n      <td>NaN</td>\n      <td>...</td>\n      <td>0</td>\n      <td>0</td>\n      <td>0</td>\n      <td>0</td>\n      <td>0</td>\n      <td>NaN</td>\n      <td>NaN</td>\n      <td>NaN</td>\n      <td>0.000</td>\n      <td>NaN</td>\n    </tr>\n  </tbody>\n</table>\n<p>763191 rows × 93 columns</p>\n</div>"
     },
     "execution_count": 98,
     "metadata": {},
     "output_type": "execute_result"
    }
   ],
   "source": [
    "df"
   ],
   "metadata": {
    "collapsed": false,
    "ExecuteTime": {
     "end_time": "2024-04-27T08:10:53.612150Z",
     "start_time": "2024-04-27T08:10:52.860703Z"
    }
   },
   "id": "74cbda4eeb656742",
   "execution_count": 98
  },
  {
   "cell_type": "code",
   "outputs": [],
   "source": [
    "df2 = pd.read_csv(\"statcast_relevant_predictors_csv_files/2021_statcast_relevant.csv\")\n"
   ],
   "metadata": {
    "collapsed": false,
    "ExecuteTime": {
     "end_time": "2024-04-27T08:11:01.196056Z",
     "start_time": "2024-04-27T08:10:53.621195Z"
    }
   },
   "id": "9b9524adf948f185",
   "execution_count": 99
  },
  {
   "cell_type": "code",
   "outputs": [
    {
     "data": {
      "text/plain": "        player_name  pitcher   game_date  game_pk  pitch_of_game  \\\n0        Gant, John   607231  2021-03-15   641921              1   \n1        Gant, John   607231  2021-03-15   641921              2   \n2        Gant, John   607231  2021-03-15   641921              3   \n3        Gant, John   607231  2021-03-15   641921              4   \n4        Gant, John   607231  2021-03-15   641921              5   \n...             ...      ...         ...      ...            ...   \n744022  Smith, Will   519293  2021-11-02   660906            267   \n744023  Smith, Will   519293  2021-11-02   660906            268   \n744024  Smith, Will   519293  2021-11-02   660906            269   \n744025  Smith, Will   519293  2021-11-02   660906            270   \n744026  Smith, Will   519293  2021-11-02   660906            271   \n\n        at_bat_number  pitch_number pitch_type       pitch_name  \\\n0                   1             1         SL           Slider   \n1                   1             2         CH         Changeup   \n2                   1             3         SI           Sinker   \n3                   1             4         SI           Sinker   \n4                   1             5         FF  4-Seam Fastball   \n...               ...           ...        ...              ...   \n744022             68             5         FF  4-Seam Fastball   \n744023             68             6         FF  4-Seam Fastball   \n744024             69             1         FF  4-Seam Fastball   \n744025             69             2         FF  4-Seam Fastball   \n744026             69             3         FF  4-Seam Fastball   \n\n        release_speed  ...         ax         ay         az sz_top sz_bot  \\\n0                83.7  ...   1.388939  20.235434 -25.704302   3.17   1.31   \n1                78.2  ...  -9.194743  18.719309 -25.977789   3.36   1.68   \n2                91.0  ... -15.682350  29.046612 -15.209189   3.08   1.31   \n3                90.3  ... -15.523979  27.019795 -18.800942   3.36   1.68   \n4                90.1  ... -11.787602  27.220418 -17.309961   3.08   1.27   \n...               ...  ...        ...        ...        ...    ...    ...   \n744022           93.6  ...  12.932808  31.370147 -12.168466   3.46   1.68   \n744023           94.6  ...  12.118242  35.102245 -14.577857   3.58   1.68   \n744024           93.1  ...  10.678480  31.699974 -11.705800   3.40   1.53   \n744025           92.9  ...  12.188852  30.690010 -14.009571   3.37   1.53   \n744026           93.7  ...   8.101619  29.384843 -15.743652   3.37   1.53   \n\n        effective_speed  release_spin_rate  release_extension  release_pos_y  \\\n0                  84.3             2533.0                6.3          54.21   \n1                  78.6             1507.0                6.4          54.13   \n2                  90.7             2541.0                6.2          54.31   \n3                  90.5             2316.0                6.4          54.07   \n4                  90.2             2524.0                6.3          54.20   \n...                 ...                ...                ...            ...   \n744022             92.8             2239.0                6.2          54.28   \n744023             93.8             2263.0                6.3          54.25   \n744024             92.5             2216.0                6.2          54.30   \n744025             92.6             2206.0                6.3          54.22   \n744026             93.4             2112.0                6.1          54.39   \n\n        spin_axis  \n0           211.0  \n1           239.0  \n2           223.0  \n3           216.0  \n4           224.0  \n...           ...  \n744022      152.0  \n744023      140.0  \n744024      143.0  \n744025      145.0  \n744026      146.0  \n\n[744027 rows x 32 columns]",
      "text/html": "<div>\n<style scoped>\n    .dataframe tbody tr th:only-of-type {\n        vertical-align: middle;\n    }\n\n    .dataframe tbody tr th {\n        vertical-align: top;\n    }\n\n    .dataframe thead th {\n        text-align: right;\n    }\n</style>\n<table border=\"1\" class=\"dataframe\">\n  <thead>\n    <tr style=\"text-align: right;\">\n      <th></th>\n      <th>player_name</th>\n      <th>pitcher</th>\n      <th>game_date</th>\n      <th>game_pk</th>\n      <th>pitch_of_game</th>\n      <th>at_bat_number</th>\n      <th>pitch_number</th>\n      <th>pitch_type</th>\n      <th>pitch_name</th>\n      <th>release_speed</th>\n      <th>...</th>\n      <th>ax</th>\n      <th>ay</th>\n      <th>az</th>\n      <th>sz_top</th>\n      <th>sz_bot</th>\n      <th>effective_speed</th>\n      <th>release_spin_rate</th>\n      <th>release_extension</th>\n      <th>release_pos_y</th>\n      <th>spin_axis</th>\n    </tr>\n  </thead>\n  <tbody>\n    <tr>\n      <th>0</th>\n      <td>Gant, John</td>\n      <td>607231</td>\n      <td>2021-03-15</td>\n      <td>641921</td>\n      <td>1</td>\n      <td>1</td>\n      <td>1</td>\n      <td>SL</td>\n      <td>Slider</td>\n      <td>83.7</td>\n      <td>...</td>\n      <td>1.388939</td>\n      <td>20.235434</td>\n      <td>-25.704302</td>\n      <td>3.17</td>\n      <td>1.31</td>\n      <td>84.3</td>\n      <td>2533.0</td>\n      <td>6.3</td>\n      <td>54.21</td>\n      <td>211.0</td>\n    </tr>\n    <tr>\n      <th>1</th>\n      <td>Gant, John</td>\n      <td>607231</td>\n      <td>2021-03-15</td>\n      <td>641921</td>\n      <td>2</td>\n      <td>1</td>\n      <td>2</td>\n      <td>CH</td>\n      <td>Changeup</td>\n      <td>78.2</td>\n      <td>...</td>\n      <td>-9.194743</td>\n      <td>18.719309</td>\n      <td>-25.977789</td>\n      <td>3.36</td>\n      <td>1.68</td>\n      <td>78.6</td>\n      <td>1507.0</td>\n      <td>6.4</td>\n      <td>54.13</td>\n      <td>239.0</td>\n    </tr>\n    <tr>\n      <th>2</th>\n      <td>Gant, John</td>\n      <td>607231</td>\n      <td>2021-03-15</td>\n      <td>641921</td>\n      <td>3</td>\n      <td>1</td>\n      <td>3</td>\n      <td>SI</td>\n      <td>Sinker</td>\n      <td>91.0</td>\n      <td>...</td>\n      <td>-15.682350</td>\n      <td>29.046612</td>\n      <td>-15.209189</td>\n      <td>3.08</td>\n      <td>1.31</td>\n      <td>90.7</td>\n      <td>2541.0</td>\n      <td>6.2</td>\n      <td>54.31</td>\n      <td>223.0</td>\n    </tr>\n    <tr>\n      <th>3</th>\n      <td>Gant, John</td>\n      <td>607231</td>\n      <td>2021-03-15</td>\n      <td>641921</td>\n      <td>4</td>\n      <td>1</td>\n      <td>4</td>\n      <td>SI</td>\n      <td>Sinker</td>\n      <td>90.3</td>\n      <td>...</td>\n      <td>-15.523979</td>\n      <td>27.019795</td>\n      <td>-18.800942</td>\n      <td>3.36</td>\n      <td>1.68</td>\n      <td>90.5</td>\n      <td>2316.0</td>\n      <td>6.4</td>\n      <td>54.07</td>\n      <td>216.0</td>\n    </tr>\n    <tr>\n      <th>4</th>\n      <td>Gant, John</td>\n      <td>607231</td>\n      <td>2021-03-15</td>\n      <td>641921</td>\n      <td>5</td>\n      <td>1</td>\n      <td>5</td>\n      <td>FF</td>\n      <td>4-Seam Fastball</td>\n      <td>90.1</td>\n      <td>...</td>\n      <td>-11.787602</td>\n      <td>27.220418</td>\n      <td>-17.309961</td>\n      <td>3.08</td>\n      <td>1.27</td>\n      <td>90.2</td>\n      <td>2524.0</td>\n      <td>6.3</td>\n      <td>54.20</td>\n      <td>224.0</td>\n    </tr>\n    <tr>\n      <th>...</th>\n      <td>...</td>\n      <td>...</td>\n      <td>...</td>\n      <td>...</td>\n      <td>...</td>\n      <td>...</td>\n      <td>...</td>\n      <td>...</td>\n      <td>...</td>\n      <td>...</td>\n      <td>...</td>\n      <td>...</td>\n      <td>...</td>\n      <td>...</td>\n      <td>...</td>\n      <td>...</td>\n      <td>...</td>\n      <td>...</td>\n      <td>...</td>\n      <td>...</td>\n      <td>...</td>\n    </tr>\n    <tr>\n      <th>744022</th>\n      <td>Smith, Will</td>\n      <td>519293</td>\n      <td>2021-11-02</td>\n      <td>660906</td>\n      <td>267</td>\n      <td>68</td>\n      <td>5</td>\n      <td>FF</td>\n      <td>4-Seam Fastball</td>\n      <td>93.6</td>\n      <td>...</td>\n      <td>12.932808</td>\n      <td>31.370147</td>\n      <td>-12.168466</td>\n      <td>3.46</td>\n      <td>1.68</td>\n      <td>92.8</td>\n      <td>2239.0</td>\n      <td>6.2</td>\n      <td>54.28</td>\n      <td>152.0</td>\n    </tr>\n    <tr>\n      <th>744023</th>\n      <td>Smith, Will</td>\n      <td>519293</td>\n      <td>2021-11-02</td>\n      <td>660906</td>\n      <td>268</td>\n      <td>68</td>\n      <td>6</td>\n      <td>FF</td>\n      <td>4-Seam Fastball</td>\n      <td>94.6</td>\n      <td>...</td>\n      <td>12.118242</td>\n      <td>35.102245</td>\n      <td>-14.577857</td>\n      <td>3.58</td>\n      <td>1.68</td>\n      <td>93.8</td>\n      <td>2263.0</td>\n      <td>6.3</td>\n      <td>54.25</td>\n      <td>140.0</td>\n    </tr>\n    <tr>\n      <th>744024</th>\n      <td>Smith, Will</td>\n      <td>519293</td>\n      <td>2021-11-02</td>\n      <td>660906</td>\n      <td>269</td>\n      <td>69</td>\n      <td>1</td>\n      <td>FF</td>\n      <td>4-Seam Fastball</td>\n      <td>93.1</td>\n      <td>...</td>\n      <td>10.678480</td>\n      <td>31.699974</td>\n      <td>-11.705800</td>\n      <td>3.40</td>\n      <td>1.53</td>\n      <td>92.5</td>\n      <td>2216.0</td>\n      <td>6.2</td>\n      <td>54.30</td>\n      <td>143.0</td>\n    </tr>\n    <tr>\n      <th>744025</th>\n      <td>Smith, Will</td>\n      <td>519293</td>\n      <td>2021-11-02</td>\n      <td>660906</td>\n      <td>270</td>\n      <td>69</td>\n      <td>2</td>\n      <td>FF</td>\n      <td>4-Seam Fastball</td>\n      <td>92.9</td>\n      <td>...</td>\n      <td>12.188852</td>\n      <td>30.690010</td>\n      <td>-14.009571</td>\n      <td>3.37</td>\n      <td>1.53</td>\n      <td>92.6</td>\n      <td>2206.0</td>\n      <td>6.3</td>\n      <td>54.22</td>\n      <td>145.0</td>\n    </tr>\n    <tr>\n      <th>744026</th>\n      <td>Smith, Will</td>\n      <td>519293</td>\n      <td>2021-11-02</td>\n      <td>660906</td>\n      <td>271</td>\n      <td>69</td>\n      <td>3</td>\n      <td>FF</td>\n      <td>4-Seam Fastball</td>\n      <td>93.7</td>\n      <td>...</td>\n      <td>8.101619</td>\n      <td>29.384843</td>\n      <td>-15.743652</td>\n      <td>3.37</td>\n      <td>1.53</td>\n      <td>93.4</td>\n      <td>2112.0</td>\n      <td>6.1</td>\n      <td>54.39</td>\n      <td>146.0</td>\n    </tr>\n  </tbody>\n</table>\n<p>744027 rows × 32 columns</p>\n</div>"
     },
     "execution_count": 100,
     "metadata": {},
     "output_type": "execute_result"
    }
   ],
   "source": [
    "df2"
   ],
   "metadata": {
    "collapsed": false,
    "ExecuteTime": {
     "end_time": "2024-04-27T08:11:01.597163Z",
     "start_time": "2024-04-27T08:11:01.199548Z"
    }
   },
   "id": "7b86ee1e52f86400",
   "execution_count": 100
  },
  {
   "cell_type": "code",
   "outputs": [
    {
     "data": {
      "text/plain": "0"
     },
     "execution_count": 101,
     "metadata": {},
     "output_type": "execute_result"
    }
   ],
   "source": [
    "df2['release_speed'].isna().sum()"
   ],
   "metadata": {
    "collapsed": false,
    "ExecuteTime": {
     "end_time": "2024-04-27T08:11:01.613505Z",
     "start_time": "2024-04-27T08:11:01.599275Z"
    }
   },
   "id": "14488841986d0824",
   "execution_count": 101
  },
  {
   "cell_type": "code",
   "outputs": [
    {
     "data": {
      "text/plain": "0    Buehler, Walker\nName: player_name, dtype: object"
     },
     "execution_count": 102,
     "metadata": {},
     "output_type": "execute_result"
    }
   ],
   "source": [
    "df2['player_name'].mode()"
   ],
   "metadata": {
    "collapsed": false,
    "ExecuteTime": {
     "end_time": "2024-04-27T08:14:37.788206Z",
     "start_time": "2024-04-27T08:14:37.492759Z"
    }
   },
   "id": "d605df60d434e54f",
   "execution_count": 102
  },
  {
   "cell_type": "code",
   "outputs": [
    {
     "data": {
      "text/plain": "              player_name  pitcher   game_date  game_pk  pitch_of_game  \\\n20174   Lovelady, Richard   663992  2021-03-28   642096            251   \n20175   Lovelady, Richard   663992  2021-03-28   642096            252   \n20176   Lovelady, Richard   663992  2021-03-28   642096            253   \n20177   Lovelady, Richard   663992  2021-03-28   642096            254   \n20178   Lovelady, Richard   663992  2021-03-28   642096            255   \n...                   ...      ...         ...      ...            ...   \n585320  Lovelady, Richard   663992  2021-08-27   632753            347   \n585321  Lovelady, Richard   663992  2021-08-27   632753            348   \n585322  Lovelady, Richard   663992  2021-08-27   632753            349   \n585323  Lovelady, Richard   663992  2021-08-27   632753            350   \n585324  Lovelady, Richard   663992  2021-08-27   632753            351   \n\n        at_bat_number  pitch_number pitch_type       pitch_name  \\\n20174              58             1         SI           Sinker   \n20175              58             2         SI           Sinker   \n20176              59             1         SL           Slider   \n20177              59             2         SL           Slider   \n20178              59             3         SL           Slider   \n...               ...           ...        ...              ...   \n585320             94             2         SL           Slider   \n585321             94             3         FF  4-Seam Fastball   \n585322             94             4         FF  4-Seam Fastball   \n585323             94             5         SL           Slider   \n585324             95             1         SL           Slider   \n\n        release_speed  ...         ax         ay         az sz_top sz_bot  \\\n20174            93.1  ...  18.883069  31.901068 -27.170111   3.58   1.69   \n20175            92.4  ...  16.527225  28.156646 -24.477693   3.31   1.66   \n20176            87.7  ...  -1.955315  26.893045 -34.102923   3.39   1.70   \n20177            88.4  ...   1.520514  26.209877 -28.754376   3.36   1.68   \n20178            88.8  ...  -2.592232  26.497802 -32.814875   3.36   1.68   \n...               ...  ...        ...        ...        ...    ...    ...   \n585320           85.8  ...  -6.178087  25.094225 -30.252066   2.85   1.40   \n585321           93.0  ...   7.463087  30.958349 -11.719007   2.91   1.53   \n585322           91.9  ...  11.635372  29.970820 -14.228508   2.90   1.47   \n585323           86.2  ...  -7.573151  27.733285 -33.142764   3.37   1.53   \n585324           87.2  ...  -6.452435  26.528865 -34.115970   3.47   1.59   \n\n        effective_speed  release_spin_rate  release_extension  release_pos_y  \\\n20174              94.2             2303.0                7.1          53.36   \n20175              94.1             2283.0                7.3          53.24   \n20176              88.8             2535.0                7.0          53.48   \n20177              89.6             2474.0                6.9          53.57   \n20178              90.1             2582.0                7.1          53.43   \n...                 ...                ...                ...            ...   \n585320             84.9             2445.0                5.8          54.74   \n585321             94.2             2420.0                7.2          53.26   \n585322             92.9             2391.0                7.1          53.38   \n585323             87.1             2523.0                7.1          53.38   \n585324             87.8             2614.0                6.7          53.78   \n\n        spin_axis  \n20174       127.0  \n20175       137.0  \n20176       314.0  \n20177       155.0  \n20178       259.0  \n...           ...  \n585320      264.0  \n585321      130.0  \n585322      134.0  \n585323      274.0  \n585324      283.0  \n\n[332 rows x 32 columns]",
      "text/html": "<div>\n<style scoped>\n    .dataframe tbody tr th:only-of-type {\n        vertical-align: middle;\n    }\n\n    .dataframe tbody tr th {\n        vertical-align: top;\n    }\n\n    .dataframe thead th {\n        text-align: right;\n    }\n</style>\n<table border=\"1\" class=\"dataframe\">\n  <thead>\n    <tr style=\"text-align: right;\">\n      <th></th>\n      <th>player_name</th>\n      <th>pitcher</th>\n      <th>game_date</th>\n      <th>game_pk</th>\n      <th>pitch_of_game</th>\n      <th>at_bat_number</th>\n      <th>pitch_number</th>\n      <th>pitch_type</th>\n      <th>pitch_name</th>\n      <th>release_speed</th>\n      <th>...</th>\n      <th>ax</th>\n      <th>ay</th>\n      <th>az</th>\n      <th>sz_top</th>\n      <th>sz_bot</th>\n      <th>effective_speed</th>\n      <th>release_spin_rate</th>\n      <th>release_extension</th>\n      <th>release_pos_y</th>\n      <th>spin_axis</th>\n    </tr>\n  </thead>\n  <tbody>\n    <tr>\n      <th>20174</th>\n      <td>Lovelady, Richard</td>\n      <td>663992</td>\n      <td>2021-03-28</td>\n      <td>642096</td>\n      <td>251</td>\n      <td>58</td>\n      <td>1</td>\n      <td>SI</td>\n      <td>Sinker</td>\n      <td>93.1</td>\n      <td>...</td>\n      <td>18.883069</td>\n      <td>31.901068</td>\n      <td>-27.170111</td>\n      <td>3.58</td>\n      <td>1.69</td>\n      <td>94.2</td>\n      <td>2303.0</td>\n      <td>7.1</td>\n      <td>53.36</td>\n      <td>127.0</td>\n    </tr>\n    <tr>\n      <th>20175</th>\n      <td>Lovelady, Richard</td>\n      <td>663992</td>\n      <td>2021-03-28</td>\n      <td>642096</td>\n      <td>252</td>\n      <td>58</td>\n      <td>2</td>\n      <td>SI</td>\n      <td>Sinker</td>\n      <td>92.4</td>\n      <td>...</td>\n      <td>16.527225</td>\n      <td>28.156646</td>\n      <td>-24.477693</td>\n      <td>3.31</td>\n      <td>1.66</td>\n      <td>94.1</td>\n      <td>2283.0</td>\n      <td>7.3</td>\n      <td>53.24</td>\n      <td>137.0</td>\n    </tr>\n    <tr>\n      <th>20176</th>\n      <td>Lovelady, Richard</td>\n      <td>663992</td>\n      <td>2021-03-28</td>\n      <td>642096</td>\n      <td>253</td>\n      <td>59</td>\n      <td>1</td>\n      <td>SL</td>\n      <td>Slider</td>\n      <td>87.7</td>\n      <td>...</td>\n      <td>-1.955315</td>\n      <td>26.893045</td>\n      <td>-34.102923</td>\n      <td>3.39</td>\n      <td>1.70</td>\n      <td>88.8</td>\n      <td>2535.0</td>\n      <td>7.0</td>\n      <td>53.48</td>\n      <td>314.0</td>\n    </tr>\n    <tr>\n      <th>20177</th>\n      <td>Lovelady, Richard</td>\n      <td>663992</td>\n      <td>2021-03-28</td>\n      <td>642096</td>\n      <td>254</td>\n      <td>59</td>\n      <td>2</td>\n      <td>SL</td>\n      <td>Slider</td>\n      <td>88.4</td>\n      <td>...</td>\n      <td>1.520514</td>\n      <td>26.209877</td>\n      <td>-28.754376</td>\n      <td>3.36</td>\n      <td>1.68</td>\n      <td>89.6</td>\n      <td>2474.0</td>\n      <td>6.9</td>\n      <td>53.57</td>\n      <td>155.0</td>\n    </tr>\n    <tr>\n      <th>20178</th>\n      <td>Lovelady, Richard</td>\n      <td>663992</td>\n      <td>2021-03-28</td>\n      <td>642096</td>\n      <td>255</td>\n      <td>59</td>\n      <td>3</td>\n      <td>SL</td>\n      <td>Slider</td>\n      <td>88.8</td>\n      <td>...</td>\n      <td>-2.592232</td>\n      <td>26.497802</td>\n      <td>-32.814875</td>\n      <td>3.36</td>\n      <td>1.68</td>\n      <td>90.1</td>\n      <td>2582.0</td>\n      <td>7.1</td>\n      <td>53.43</td>\n      <td>259.0</td>\n    </tr>\n    <tr>\n      <th>...</th>\n      <td>...</td>\n      <td>...</td>\n      <td>...</td>\n      <td>...</td>\n      <td>...</td>\n      <td>...</td>\n      <td>...</td>\n      <td>...</td>\n      <td>...</td>\n      <td>...</td>\n      <td>...</td>\n      <td>...</td>\n      <td>...</td>\n      <td>...</td>\n      <td>...</td>\n      <td>...</td>\n      <td>...</td>\n      <td>...</td>\n      <td>...</td>\n      <td>...</td>\n      <td>...</td>\n    </tr>\n    <tr>\n      <th>585320</th>\n      <td>Lovelady, Richard</td>\n      <td>663992</td>\n      <td>2021-08-27</td>\n      <td>632753</td>\n      <td>347</td>\n      <td>94</td>\n      <td>2</td>\n      <td>SL</td>\n      <td>Slider</td>\n      <td>85.8</td>\n      <td>...</td>\n      <td>-6.178087</td>\n      <td>25.094225</td>\n      <td>-30.252066</td>\n      <td>2.85</td>\n      <td>1.40</td>\n      <td>84.9</td>\n      <td>2445.0</td>\n      <td>5.8</td>\n      <td>54.74</td>\n      <td>264.0</td>\n    </tr>\n    <tr>\n      <th>585321</th>\n      <td>Lovelady, Richard</td>\n      <td>663992</td>\n      <td>2021-08-27</td>\n      <td>632753</td>\n      <td>348</td>\n      <td>94</td>\n      <td>3</td>\n      <td>FF</td>\n      <td>4-Seam Fastball</td>\n      <td>93.0</td>\n      <td>...</td>\n      <td>7.463087</td>\n      <td>30.958349</td>\n      <td>-11.719007</td>\n      <td>2.91</td>\n      <td>1.53</td>\n      <td>94.2</td>\n      <td>2420.0</td>\n      <td>7.2</td>\n      <td>53.26</td>\n      <td>130.0</td>\n    </tr>\n    <tr>\n      <th>585322</th>\n      <td>Lovelady, Richard</td>\n      <td>663992</td>\n      <td>2021-08-27</td>\n      <td>632753</td>\n      <td>349</td>\n      <td>94</td>\n      <td>4</td>\n      <td>FF</td>\n      <td>4-Seam Fastball</td>\n      <td>91.9</td>\n      <td>...</td>\n      <td>11.635372</td>\n      <td>29.970820</td>\n      <td>-14.228508</td>\n      <td>2.90</td>\n      <td>1.47</td>\n      <td>92.9</td>\n      <td>2391.0</td>\n      <td>7.1</td>\n      <td>53.38</td>\n      <td>134.0</td>\n    </tr>\n    <tr>\n      <th>585323</th>\n      <td>Lovelady, Richard</td>\n      <td>663992</td>\n      <td>2021-08-27</td>\n      <td>632753</td>\n      <td>350</td>\n      <td>94</td>\n      <td>5</td>\n      <td>SL</td>\n      <td>Slider</td>\n      <td>86.2</td>\n      <td>...</td>\n      <td>-7.573151</td>\n      <td>27.733285</td>\n      <td>-33.142764</td>\n      <td>3.37</td>\n      <td>1.53</td>\n      <td>87.1</td>\n      <td>2523.0</td>\n      <td>7.1</td>\n      <td>53.38</td>\n      <td>274.0</td>\n    </tr>\n    <tr>\n      <th>585324</th>\n      <td>Lovelady, Richard</td>\n      <td>663992</td>\n      <td>2021-08-27</td>\n      <td>632753</td>\n      <td>351</td>\n      <td>95</td>\n      <td>1</td>\n      <td>SL</td>\n      <td>Slider</td>\n      <td>87.2</td>\n      <td>...</td>\n      <td>-6.452435</td>\n      <td>26.528865</td>\n      <td>-34.115970</td>\n      <td>3.47</td>\n      <td>1.59</td>\n      <td>87.8</td>\n      <td>2614.0</td>\n      <td>6.7</td>\n      <td>53.78</td>\n      <td>283.0</td>\n    </tr>\n  </tbody>\n</table>\n<p>332 rows × 32 columns</p>\n</div>"
     },
     "execution_count": 106,
     "metadata": {},
     "output_type": "execute_result"
    }
   ],
   "source": [
    "df2[df2['player_name'] == 'Lovelady, Richard']"
   ],
   "metadata": {
    "collapsed": false,
    "ExecuteTime": {
     "end_time": "2024-04-27T08:27:38.917991Z",
     "start_time": "2024-04-27T08:27:38.676099Z"
    }
   },
   "id": "4771dda138c1a784",
   "execution_count": 106
  },
  {
   "cell_type": "code",
   "outputs": [
    {
     "name": "stdout",
     "output_type": "stream",
     "text": [
      "<class 'pandas.core.frame.DataFrame'>\n",
      "RangeIndex: 771057 entries, 0 to 771056\n",
      "Data columns (total 93 columns):\n",
      " #   Column                           Non-Null Count   Dtype  \n",
      "---  ------                           --------------   -----  \n",
      " 0   Unnamed: 0                       771057 non-null  int64  \n",
      " 1   pitch_type                       754641 non-null  object \n",
      " 2   game_date                        771057 non-null  object \n",
      " 3   release_speed                    754638 non-null  float64\n",
      " 4   release_pos_x                    754638 non-null  float64\n",
      " 5   release_pos_z                    754638 non-null  float64\n",
      " 6   player_name                      771057 non-null  object \n",
      " 7   batter                           771057 non-null  int64  \n",
      " 8   pitcher                          771057 non-null  int64  \n",
      " 9   events                           201534 non-null  object \n",
      " 10  description                      771057 non-null  object \n",
      " 11  spin_dir                         0 non-null       float64\n",
      " 12  spin_rate_deprecated             0 non-null       float64\n",
      " 13  break_angle_deprecated           0 non-null       float64\n",
      " 14  break_length_deprecated          0 non-null       float64\n",
      " 15  zone                             754638 non-null  float64\n",
      " 16  des                              771057 non-null  object \n",
      " 17  game_type                        771057 non-null  object \n",
      " 18  stand                            771057 non-null  object \n",
      " 19  p_throws                         771057 non-null  object \n",
      " 20  home_team                        771057 non-null  object \n",
      " 21  away_team                        771057 non-null  object \n",
      " 22  type                             771057 non-null  object \n",
      " 23  hit_location                     175443 non-null  float64\n",
      " 24  bb_type                          135808 non-null  object \n",
      " 25  balls                            771057 non-null  int64  \n",
      " 26  strikes                          771057 non-null  int64  \n",
      " 27  game_year                        771057 non-null  int64  \n",
      " 28  pfx_x                            754636 non-null  float64\n",
      " 29  pfx_z                            754636 non-null  float64\n",
      " 30  plate_x                          754638 non-null  float64\n",
      " 31  plate_z                          754638 non-null  float64\n",
      " 32  on_3b                            74899 non-null   float64\n",
      " 33  on_2b                            147857 non-null  float64\n",
      " 34  on_1b                            237679 non-null  float64\n",
      " 35  outs_when_up                     771057 non-null  int64  \n",
      " 36  inning                           771057 non-null  int64  \n",
      " 37  inning_topbot                    771057 non-null  object \n",
      " 38  hc_x                             135749 non-null  float64\n",
      " 39  hc_y                             135749 non-null  float64\n",
      " 40  tfs_deprecated                   0 non-null       float64\n",
      " 41  tfs_zulu_deprecated              0 non-null       float64\n",
      " 42  fielder_2                        771057 non-null  int64  \n",
      " 43  umpire                           0 non-null       float64\n",
      " 44  sv_id                            0 non-null       float64\n",
      " 45  vx0                              754638 non-null  float64\n",
      " 46  vy0                              754638 non-null  float64\n",
      " 47  vz0                              754638 non-null  float64\n",
      " 48  ax                               754638 non-null  float64\n",
      " 49  ay                               754638 non-null  float64\n",
      " 50  az                               754638 non-null  float64\n",
      " 51  sz_top                           754638 non-null  float64\n",
      " 52  sz_bot                           754638 non-null  float64\n",
      " 53  hit_distance_sc                  249830 non-null  float64\n",
      " 54  launch_speed                     248560 non-null  float64\n",
      " 55  launch_angle                     248901 non-null  float64\n",
      " 56  effective_speed                  754460 non-null  float64\n",
      " 57  release_spin_rate                750175 non-null  float64\n",
      " 58  release_extension                753536 non-null  float64\n",
      " 59  game_pk                          771057 non-null  int64  \n",
      " 60  pitcher.1                        771057 non-null  int64  \n",
      " 61  fielder_2.1                      771057 non-null  int64  \n",
      " 62  fielder_3                        771057 non-null  int64  \n",
      " 63  fielder_4                        771057 non-null  int64  \n",
      " 64  fielder_5                        771057 non-null  int64  \n",
      " 65  fielder_6                        771057 non-null  int64  \n",
      " 66  fielder_7                        771057 non-null  int64  \n",
      " 67  fielder_8                        771057 non-null  int64  \n",
      " 68  fielder_9                        771057 non-null  int64  \n",
      " 69  release_pos_y                    754638 non-null  float64\n",
      " 70  estimated_ba_using_speedangle    130042 non-null  float64\n",
      " 71  estimated_woba_using_speedangle  130042 non-null  float64\n",
      " 72  woba_value                       201534 non-null  float64\n",
      " 73  woba_denom                       186488 non-null  float64\n",
      " 74  babip_value                      201534 non-null  float64\n",
      " 75  iso_value                        201534 non-null  float64\n",
      " 76  launch_speed_angle               130042 non-null  float64\n",
      " 77  at_bat_number                    771057 non-null  int64  \n",
      " 78  pitch_number                     771057 non-null  int64  \n",
      " 79  pitch_name                       754641 non-null  object \n",
      " 80  home_score                       771057 non-null  int64  \n",
      " 81  away_score                       771057 non-null  int64  \n",
      " 82  bat_score                        771057 non-null  int64  \n",
      " 83  fld_score                        771057 non-null  int64  \n",
      " 84  post_away_score                  771057 non-null  int64  \n",
      " 85  post_home_score                  771057 non-null  int64  \n",
      " 86  post_bat_score                   771057 non-null  int64  \n",
      " 87  post_fld_score                   771057 non-null  int64  \n",
      " 88  if_fielding_alignment            744704 non-null  object \n",
      " 89  of_fielding_alignment            744704 non-null  object \n",
      " 90  spin_axis                        750175 non-null  float64\n",
      " 91  delta_home_win_exp               771057 non-null  float64\n",
      " 92  delta_run_exp                    729719 non-null  float64\n",
      "dtypes: float64(47), int64(29), object(17)\n",
      "memory usage: 547.1+ MB\n"
     ]
    }
   ],
   "source": [
    "import pandas as pd\n",
    "df3 = pd.read_csv('statcast_raw_csv_files/2023_statcast.csv')\n",
    "df3.info()"
   ],
   "metadata": {
    "collapsed": false,
    "ExecuteTime": {
     "end_time": "2024-04-29T04:06:36.144453Z",
     "start_time": "2024-04-29T04:06:18.521117Z"
    }
   },
   "id": "cb7105672ad8b175",
   "execution_count": 3
  },
  {
   "cell_type": "code",
   "outputs": [
    {
     "name": "stdout",
     "output_type": "stream",
     "text": [
      "2728016\n"
     ]
    }
   ],
   "source": [
    "import os\n",
    "\n",
    "read_directory = 'statcast_raw_csv_files'\n",
    "\n",
    "total = 0\n",
    "\n",
    "file_list = sorted(os.listdir(read_directory))\n",
    "for file in file_list:\n",
    "    filename = os.fsdecode(file)\n",
    "\n",
    "    to_read = os.path.join(read_directory, filename)\n",
    "\n",
    "    df_to_read = pd.read_csv(to_read)\n",
    "    \n",
    "    total += len(df_to_read)\n",
    "    \n",
    "print(total)"
   ],
   "metadata": {
    "collapsed": false,
    "ExecuteTime": {
     "end_time": "2024-04-29T04:11:31.303446Z",
     "start_time": "2024-04-29T04:10:38.148502Z"
    }
   },
   "id": "79f62ef5bfd9fd8c",
   "execution_count": 4
  },
  {
   "cell_type": "code",
   "outputs": [],
   "source": [],
   "metadata": {
    "collapsed": false
   },
   "id": "c0b8669af12ffd88"
  }
 ],
 "metadata": {
  "kernelspec": {
   "display_name": "Python 3",
   "language": "python",
   "name": "python3"
  },
  "language_info": {
   "codemirror_mode": {
    "name": "ipython",
    "version": 2
   },
   "file_extension": ".py",
   "mimetype": "text/x-python",
   "name": "python",
   "nbconvert_exporter": "python",
   "pygments_lexer": "ipython2",
   "version": "2.7.6"
  }
 },
 "nbformat": 4,
 "nbformat_minor": 5
}
